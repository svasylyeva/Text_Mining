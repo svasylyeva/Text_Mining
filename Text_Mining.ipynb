{
 "cells": [
  {
   "cell_type": "code",
   "execution_count": 1,
   "id": "cosmetic-laptop",
   "metadata": {},
   "outputs": [],
   "source": [
    "import pandas as pd"
   ]
  },
  {
   "cell_type": "code",
   "execution_count": 2,
   "id": "seasonal-narrow",
   "metadata": {},
   "outputs": [],
   "source": [
    "scores = pd.read_csv(\"scores.csv\")"
   ]
  },
  {
   "cell_type": "code",
   "execution_count": 3,
   "id": "level-implement",
   "metadata": {},
   "outputs": [
    {
     "data": {
      "text/html": [
       "<div>\n",
       "<style scoped>\n",
       "    .dataframe tbody tr th:only-of-type {\n",
       "        vertical-align: middle;\n",
       "    }\n",
       "\n",
       "    .dataframe tbody tr th {\n",
       "        vertical-align: top;\n",
       "    }\n",
       "\n",
       "    .dataframe thead th {\n",
       "        text-align: right;\n",
       "    }\n",
       "</style>\n",
       "<table border=\"1\" class=\"dataframe\">\n",
       "  <thead>\n",
       "    <tr style=\"text-align: right;\">\n",
       "      <th></th>\n",
       "      <th>source</th>\n",
       "      <th>reference</th>\n",
       "      <th>translation</th>\n",
       "      <th>z-score</th>\n",
       "      <th>avg-score</th>\n",
       "      <th>annotators</th>\n",
       "    </tr>\n",
       "  </thead>\n",
       "  <tbody>\n",
       "    <tr>\n",
       "      <th>0</th>\n",
       "      <td>В этом году крымчане получат уведомление на оп...</td>\n",
       "      <td>This year the Crimeans will receive a notice f...</td>\n",
       "      <td>This year, residents of Crimea will receive a ...</td>\n",
       "      <td>0.878043</td>\n",
       "      <td>92.0</td>\n",
       "      <td>1</td>\n",
       "    </tr>\n",
       "    <tr>\n",
       "      <th>1</th>\n",
       "      <td>Энергетические компании находятся под давление...</td>\n",
       "      <td>Energy companies are under pressure due to low...</td>\n",
       "      <td>Energy companies are under pressure from lower...</td>\n",
       "      <td>0.511473</td>\n",
       "      <td>81.5</td>\n",
       "      <td>2</td>\n",
       "    </tr>\n",
       "    <tr>\n",
       "      <th>2</th>\n",
       "      <td>В бархатный сезон покупают туры в основном оди...</td>\n",
       "      <td>In the velvet season, tours are mostly single ...</td>\n",
       "      <td>In the autumn season, tours are mainly purchas...</td>\n",
       "      <td>0.947866</td>\n",
       "      <td>94.0</td>\n",
       "      <td>1</td>\n",
       "    </tr>\n",
       "    <tr>\n",
       "      <th>3</th>\n",
       "      <td>Возле него на всякий случай стоит познавательн...</td>\n",
       "      <td>Near him, just in case, there is a cognitive t...</td>\n",
       "      <td>Beside it, for good measure, there is an infor...</td>\n",
       "      <td>1.052601</td>\n",
       "      <td>97.0</td>\n",
       "      <td>1</td>\n",
       "    </tr>\n",
       "    <tr>\n",
       "      <th>4</th>\n",
       "      <td>Действительно ли Эфиопия находится на грани ра...</td>\n",
       "      <td>Is Ethiopia on the verge of schism?</td>\n",
       "      <td>Is Ethiopia about to crack?</td>\n",
       "      <td>0.738397</td>\n",
       "      <td>88.0</td>\n",
       "      <td>1</td>\n",
       "    </tr>\n",
       "  </tbody>\n",
       "</table>\n",
       "</div>"
      ],
      "text/plain": [
       "                                              source  \\\n",
       "0  В этом году крымчане получат уведомление на оп...   \n",
       "1  Энергетические компании находятся под давление...   \n",
       "2  В бархатный сезон покупают туры в основном оди...   \n",
       "3  Возле него на всякий случай стоит познавательн...   \n",
       "4  Действительно ли Эфиопия находится на грани ра...   \n",
       "\n",
       "                                           reference  \\\n",
       "0  This year the Crimeans will receive a notice f...   \n",
       "1  Energy companies are under pressure due to low...   \n",
       "2  In the velvet season, tours are mostly single ...   \n",
       "3  Near him, just in case, there is a cognitive t...   \n",
       "4                Is Ethiopia on the verge of schism?   \n",
       "\n",
       "                                         translation   z-score  avg-score  \\\n",
       "0  This year, residents of Crimea will receive a ...  0.878043       92.0   \n",
       "1  Energy companies are under pressure from lower...  0.511473       81.5   \n",
       "2  In the autumn season, tours are mainly purchas...  0.947866       94.0   \n",
       "3  Beside it, for good measure, there is an infor...  1.052601       97.0   \n",
       "4                        Is Ethiopia about to crack?  0.738397       88.0   \n",
       "\n",
       "   annotators  \n",
       "0           1  \n",
       "1           2  \n",
       "2           1  \n",
       "3           1  \n",
       "4           1  "
      ]
     },
     "execution_count": 3,
     "metadata": {},
     "output_type": "execute_result"
    }
   ],
   "source": [
    "scores.head()"
   ]
  },
  {
   "cell_type": "code",
   "execution_count": 4,
   "id": "quality-lighter",
   "metadata": {},
   "outputs": [
    {
     "data": {
      "text/plain": [
       "'Действительно ли Эфиопия находится на грани раскола?'"
      ]
     },
     "execution_count": 4,
     "metadata": {},
     "output_type": "execute_result"
    }
   ],
   "source": [
    "scores['source'][4]"
   ]
  },
  {
   "cell_type": "code",
   "execution_count": 5,
   "id": "recent-acrobat",
   "metadata": {},
   "outputs": [
    {
     "data": {
      "text/plain": [
       "'Is Ethiopia about to crack?'"
      ]
     },
     "execution_count": 5,
     "metadata": {},
     "output_type": "execute_result"
    }
   ],
   "source": [
    "scores['translation'][4]"
   ]
  },
  {
   "cell_type": "code",
   "execution_count": 6,
   "id": "recognized-mobile",
   "metadata": {},
   "outputs": [
    {
     "data": {
      "text/plain": [
       "'Is Ethiopia on the verge of schism?'"
      ]
     },
     "execution_count": 6,
     "metadata": {},
     "output_type": "execute_result"
    }
   ],
   "source": [
    "scores['reference'][4]"
   ]
  },
  {
   "cell_type": "code",
   "execution_count": 7,
   "id": "educational-passport",
   "metadata": {},
   "outputs": [
    {
     "data": {
      "text/plain": [
       "17980"
      ]
     },
     "execution_count": 7,
     "metadata": {},
     "output_type": "execute_result"
    }
   ],
   "source": [
    "len(scores)"
   ]
  },
  {
   "cell_type": "code",
   "execution_count": 8,
   "id": "acoustic-ordinary",
   "metadata": {},
   "outputs": [],
   "source": [
    "from sklearn.model_selection import train_test_split"
   ]
  },
  {
   "cell_type": "code",
   "execution_count": 9,
   "id": "detailed-mechanism",
   "metadata": {},
   "outputs": [
    {
     "data": {
      "text/plain": [
       "4924     1.917702\n",
       "8840     1.749679\n",
       "10284    1.733018\n",
       "16979    1.733018\n",
       "11065    1.733018\n",
       "           ...   \n",
       "7514    -6.413770\n",
       "6831    -6.428480\n",
       "5733    -6.673922\n",
       "4741    -8.623684\n",
       "3776    -8.623684\n",
       "Name: z-score, Length: 17980, dtype: float64"
      ]
     },
     "execution_count": 9,
     "metadata": {},
     "output_type": "execute_result"
    }
   ],
   "source": [
    "scores['z-score'].sort_values(ascending=False)"
   ]
  },
  {
   "cell_type": "code",
   "execution_count": 10,
   "id": "southern-seating",
   "metadata": {},
   "outputs": [
    {
     "data": {
      "text/plain": [
       "12741    100.0\n",
       "1946     100.0\n",
       "8569     100.0\n",
       "4714     100.0\n",
       "1937     100.0\n",
       "         ...  \n",
       "10652      0.0\n",
       "5367       0.0\n",
       "14254      0.0\n",
       "2774       0.0\n",
       "9835       0.0\n",
       "Name: avg-score, Length: 17980, dtype: float64"
      ]
     },
     "execution_count": 10,
     "metadata": {},
     "output_type": "execute_result"
    }
   ],
   "source": [
    "scores['avg-score'].sort_values(ascending=False)"
   ]
  },
  {
   "cell_type": "code",
   "execution_count": 11,
   "id": "desperate-flashing",
   "metadata": {},
   "outputs": [
    {
     "data": {
      "text/html": [
       "<div>\n",
       "<style scoped>\n",
       "    .dataframe tbody tr th:only-of-type {\n",
       "        vertical-align: middle;\n",
       "    }\n",
       "\n",
       "    .dataframe tbody tr th {\n",
       "        vertical-align: top;\n",
       "    }\n",
       "\n",
       "    .dataframe thead th {\n",
       "        text-align: right;\n",
       "    }\n",
       "</style>\n",
       "<table border=\"1\" class=\"dataframe\">\n",
       "  <thead>\n",
       "    <tr style=\"text-align: right;\">\n",
       "      <th></th>\n",
       "      <th>reference</th>\n",
       "      <th>word_count</th>\n",
       "    </tr>\n",
       "  </thead>\n",
       "  <tbody>\n",
       "    <tr>\n",
       "      <th>0</th>\n",
       "      <td>This year the Crimeans will receive a notice f...</td>\n",
       "      <td>14</td>\n",
       "    </tr>\n",
       "    <tr>\n",
       "      <th>1</th>\n",
       "      <td>Energy companies are under pressure due to low...</td>\n",
       "      <td>33</td>\n",
       "    </tr>\n",
       "    <tr>\n",
       "      <th>2</th>\n",
       "      <td>In the velvet season, tours are mostly single ...</td>\n",
       "      <td>11</td>\n",
       "    </tr>\n",
       "    <tr>\n",
       "      <th>3</th>\n",
       "      <td>Near him, just in case, there is a cognitive t...</td>\n",
       "      <td>27</td>\n",
       "    </tr>\n",
       "    <tr>\n",
       "      <th>4</th>\n",
       "      <td>Is Ethiopia on the verge of schism?</td>\n",
       "      <td>7</td>\n",
       "    </tr>\n",
       "  </tbody>\n",
       "</table>\n",
       "</div>"
      ],
      "text/plain": [
       "                                           reference  word_count\n",
       "0  This year the Crimeans will receive a notice f...          14\n",
       "1  Energy companies are under pressure due to low...          33\n",
       "2  In the velvet season, tours are mostly single ...          11\n",
       "3  Near him, just in case, there is a cognitive t...          27\n",
       "4                Is Ethiopia on the verge of schism?           7"
      ]
     },
     "execution_count": 11,
     "metadata": {},
     "output_type": "execute_result"
    }
   ],
   "source": [
    "scores['word_count']  = scores['reference'].apply(lambda x: len(str(x).split(\" \")))\n",
    "scores[['reference','word_count']].head()"
   ]
  },
  {
   "cell_type": "code",
   "execution_count": 12,
   "id": "lasting-broad",
   "metadata": {},
   "outputs": [
    {
     "data": {
      "text/plain": [
       "count    17980.000000\n",
       "mean        21.025473\n",
       "std         10.656383\n",
       "min          1.000000\n",
       "25%         13.000000\n",
       "50%         19.000000\n",
       "75%         27.000000\n",
       "max        200.000000\n",
       "Name: word_count, dtype: float64"
      ]
     },
     "execution_count": 12,
     "metadata": {},
     "output_type": "execute_result"
    }
   ],
   "source": [
    "scores.word_count.describe()"
   ]
  },
  {
   "cell_type": "code",
   "execution_count": 13,
   "id": "representative-eagle",
   "metadata": {
    "scrolled": true
   },
   "outputs": [
    {
     "data": {
      "text/plain": [
       "the           32079\n",
       "of            17896\n",
       "to             9728\n",
       "in             9390\n",
       "and            8207\n",
       "              ...  \n",
       "costly            1\n",
       "restated          1\n",
       "Nasovskogo        1\n",
       "beating.          1\n",
       "Graffom.          1\n",
       "Length: 27844, dtype: int64"
      ]
     },
     "execution_count": 13,
     "metadata": {},
     "output_type": "execute_result"
    }
   ],
   "source": [
    "all_words = ' '.join(scores['reference']).split()\n",
    "\n",
    "# Count all words \n",
    "freq = pd.Series(all_words).value_counts()\n",
    "\n",
    "freq"
   ]
  },
  {
   "cell_type": "markdown",
   "id": "massive-colorado",
   "metadata": {},
   "source": [
    "## Text Preprocessing"
   ]
  },
  {
   "cell_type": "code",
   "execution_count": 12,
   "id": "focal-islam",
   "metadata": {},
   "outputs": [],
   "source": [
    "import re\n",
    "import nltk\n",
    "from nltk.corpus import stopwords\n",
    "from nltk.stem.wordnet import WordNetLemmatizer\n",
    "from bs4 import BeautifulSoup\n",
    "from tqdm import tqdm_notebook as tqdm"
   ]
  },
  {
   "cell_type": "code",
   "execution_count": 8,
   "id": "contained-semester",
   "metadata": {},
   "outputs": [
    {
     "data": {
      "text/plain": [
       "'In the velvet season, tours are mostly single travelers and couples.'"
      ]
     },
     "execution_count": 8,
     "metadata": {},
     "output_type": "execute_result"
    }
   ],
   "source": [
    "scores['reference'][2]"
   ]
  },
  {
   "cell_type": "code",
   "execution_count": 16,
   "id": "ancient-dragon",
   "metadata": {},
   "outputs": [
    {
     "data": {
      "text/plain": [
       "{'a',\n",
       " 'about',\n",
       " 'above',\n",
       " 'after',\n",
       " 'again',\n",
       " 'against',\n",
       " 'ain',\n",
       " 'all',\n",
       " 'am',\n",
       " 'an',\n",
       " 'and',\n",
       " 'any',\n",
       " 'are',\n",
       " 'aren',\n",
       " \"aren't\",\n",
       " 'as',\n",
       " 'at',\n",
       " 'be',\n",
       " 'because',\n",
       " 'been',\n",
       " 'before',\n",
       " 'being',\n",
       " 'below',\n",
       " 'between',\n",
       " 'both',\n",
       " 'but',\n",
       " 'by',\n",
       " 'can',\n",
       " 'couldn',\n",
       " \"couldn't\",\n",
       " 'd',\n",
       " 'did',\n",
       " 'didn',\n",
       " \"didn't\",\n",
       " 'do',\n",
       " 'does',\n",
       " 'doesn',\n",
       " \"doesn't\",\n",
       " 'doing',\n",
       " 'don',\n",
       " \"don't\",\n",
       " 'down',\n",
       " 'during',\n",
       " 'each',\n",
       " 'few',\n",
       " 'for',\n",
       " 'from',\n",
       " 'further',\n",
       " 'had',\n",
       " 'hadn',\n",
       " \"hadn't\",\n",
       " 'has',\n",
       " 'hasn',\n",
       " \"hasn't\",\n",
       " 'have',\n",
       " 'haven',\n",
       " \"haven't\",\n",
       " 'having',\n",
       " 'he',\n",
       " 'her',\n",
       " 'here',\n",
       " 'hers',\n",
       " 'herself',\n",
       " 'him',\n",
       " 'himself',\n",
       " 'his',\n",
       " 'how',\n",
       " 'i',\n",
       " 'if',\n",
       " 'in',\n",
       " 'into',\n",
       " 'is',\n",
       " 'isn',\n",
       " \"isn't\",\n",
       " 'it',\n",
       " \"it's\",\n",
       " 'its',\n",
       " 'itself',\n",
       " 'just',\n",
       " 'll',\n",
       " 'm',\n",
       " 'ma',\n",
       " 'me',\n",
       " 'mightn',\n",
       " \"mightn't\",\n",
       " 'more',\n",
       " 'most',\n",
       " 'mustn',\n",
       " \"mustn't\",\n",
       " 'my',\n",
       " 'myself',\n",
       " 'needn',\n",
       " \"needn't\",\n",
       " 'no',\n",
       " 'nor',\n",
       " 'not',\n",
       " 'now',\n",
       " 'o',\n",
       " 'of',\n",
       " 'off',\n",
       " 'on',\n",
       " 'once',\n",
       " 'only',\n",
       " 'or',\n",
       " 'other',\n",
       " 'our',\n",
       " 'ours',\n",
       " 'ourselves',\n",
       " 'out',\n",
       " 'over',\n",
       " 'own',\n",
       " 're',\n",
       " 's',\n",
       " 'same',\n",
       " 'shan',\n",
       " \"shan't\",\n",
       " 'she',\n",
       " \"she's\",\n",
       " 'should',\n",
       " \"should've\",\n",
       " 'shouldn',\n",
       " \"shouldn't\",\n",
       " 'so',\n",
       " 'some',\n",
       " 'such',\n",
       " 't',\n",
       " 'than',\n",
       " 'that',\n",
       " \"that'll\",\n",
       " 'the',\n",
       " 'their',\n",
       " 'theirs',\n",
       " 'them',\n",
       " 'themselves',\n",
       " 'then',\n",
       " 'there',\n",
       " 'these',\n",
       " 'they',\n",
       " 'this',\n",
       " 'those',\n",
       " 'through',\n",
       " 'to',\n",
       " 'too',\n",
       " 'under',\n",
       " 'until',\n",
       " 'up',\n",
       " 've',\n",
       " 'very',\n",
       " 'was',\n",
       " 'wasn',\n",
       " \"wasn't\",\n",
       " 'we',\n",
       " 'were',\n",
       " 'weren',\n",
       " \"weren't\",\n",
       " 'what',\n",
       " 'when',\n",
       " 'where',\n",
       " 'which',\n",
       " 'while',\n",
       " 'who',\n",
       " 'whom',\n",
       " 'why',\n",
       " 'will',\n",
       " 'with',\n",
       " 'won',\n",
       " \"won't\",\n",
       " 'wouldn',\n",
       " \"wouldn't\",\n",
       " 'y',\n",
       " 'you',\n",
       " \"you'd\",\n",
       " \"you'll\",\n",
       " \"you're\",\n",
       " \"you've\",\n",
       " 'your',\n",
       " 'yours',\n",
       " 'yourself',\n",
       " 'yourselves'}"
      ]
     },
     "execution_count": 16,
     "metadata": {},
     "output_type": "execute_result"
    }
   ],
   "source": [
    "set(stopwords.words('english'))"
   ]
  },
  {
   "cell_type": "code",
   "execution_count": 91,
   "id": "temporal-knitting",
   "metadata": {},
   "outputs": [],
   "source": [
    "def preprocessing(dataframe):\n",
    "    processed_corpus = []\n",
    "    #stop_words = set(stopwords.words())\n",
    "    for i in tqdm(range(len(dataframe))):\n",
    "        text = dataframe['reference'][i]\n",
    "        \n",
    "        #Remove punctuations\n",
    "        ## Ask me to explain this regular expression if you dont get it\n",
    "        #text = re.sub('[^A-z]', ' ', text) \n",
    "\n",
    "        #Convert to lowercase\n",
    "        text = text.lower()\n",
    "\n",
    "        #remove tags\n",
    "        text = BeautifulSoup(text).get_text()\n",
    "        \n",
    "        # Convert to list from string\n",
    "        text = text.split()\n",
    "\n",
    "        #Lemmatisation\n",
    "        lem = WordNetLemmatizer()\n",
    "        #text = [lem.lemmatize(word) for word in text if not word in stop_words] \n",
    "        text = \" \".join(text)\n",
    "        processed_corpus.append(text)\n",
    "    return processed_corpus"
   ]
  },
  {
   "cell_type": "code",
   "execution_count": 92,
   "id": "fitted-delta",
   "metadata": {},
   "outputs": [],
   "source": [
    "def preprocessing1(dataframe):\n",
    "    processed_corpus = []\n",
    "    #stop_words = set(stopwords.words())\n",
    "    for i in tqdm(range(len(dataframe))):\n",
    "        text = dataframe['translation'][i]\n",
    "        \n",
    "        #Remove punctuations\n",
    "        ## Ask me to explain this regular expression if you dont get it\n",
    "        #text = re.sub('[^A-z]', ' ', text) \n",
    "\n",
    "        #Convert to lowercase\n",
    "        text = text.lower()\n",
    "\n",
    "        #remove tags\n",
    "        text = BeautifulSoup(text).get_text()\n",
    "        \n",
    "        # Convert to list from string\n",
    "        text = text.split()\n",
    "\n",
    "        #Lemmatisation\n",
    "        lem = WordNetLemmatizer()\n",
    "        #text = [lem.lemmatize(word) for word in text if not word in stop_words] \n",
    "        text = \" \".join(text)\n",
    "        processed_corpus.append(text)\n",
    "    return processed_corpus"
   ]
  },
  {
   "cell_type": "code",
   "execution_count": 93,
   "id": "sapphire-austria",
   "metadata": {},
   "outputs": [
    {
     "name": "stderr",
     "output_type": "stream",
     "text": [
      "<ipython-input-91-a29e331a436c>:4: TqdmDeprecationWarning: This function will be removed in tqdm==5.0.0\n",
      "Please use `tqdm.notebook.tqdm` instead of `tqdm.tqdm_notebook`\n",
      "  for i in tqdm(range(len(dataframe))):\n"
     ]
    },
    {
     "data": {
      "application/vnd.jupyter.widget-view+json": {
       "model_id": "8d2ab0f09b0d468b9b54ef3de60a55da",
       "version_major": 2,
       "version_minor": 0
      },
      "text/plain": [
       "  0%|          | 0/17980 [00:00<?, ?it/s]"
      ]
     },
     "metadata": {},
     "output_type": "display_data"
    }
   ],
   "source": [
    "references = preprocessing(scores)"
   ]
  },
  {
   "cell_type": "code",
   "execution_count": 94,
   "id": "drawn-burke",
   "metadata": {},
   "outputs": [
    {
     "name": "stderr",
     "output_type": "stream",
     "text": [
      "<ipython-input-92-e4707227c27d>:4: TqdmDeprecationWarning: This function will be removed in tqdm==5.0.0\n",
      "Please use `tqdm.notebook.tqdm` instead of `tqdm.tqdm_notebook`\n",
      "  for i in tqdm(range(len(dataframe))):\n"
     ]
    },
    {
     "data": {
      "application/vnd.jupyter.widget-view+json": {
       "model_id": "8eb077010d664e43ab436e3f35a61b23",
       "version_major": 2,
       "version_minor": 0
      },
      "text/plain": [
       "  0%|          | 0/17980 [00:00<?, ?it/s]"
      ]
     },
     "metadata": {},
     "output_type": "display_data"
    }
   ],
   "source": [
    "translation = preprocessing1(scores)"
   ]
  },
  {
   "cell_type": "code",
   "execution_count": 95,
   "id": "incorporated-phone",
   "metadata": {},
   "outputs": [
    {
     "data": {
      "text/plain": [
       "'is ethiopia on the verge of schism?'"
      ]
     },
     "execution_count": 95,
     "metadata": {},
     "output_type": "execute_result"
    }
   ],
   "source": [
    "references[4]"
   ]
  },
  {
   "cell_type": "code",
   "execution_count": 31,
   "id": "beginning-statement",
   "metadata": {},
   "outputs": [
    {
     "data": {
      "text/plain": [
       "'Is Ethiopia on the verge of schism?'"
      ]
     },
     "execution_count": 31,
     "metadata": {},
     "output_type": "execute_result"
    }
   ],
   "source": [
    "scores['reference'][4]"
   ]
  },
  {
   "cell_type": "markdown",
   "id": "legal-community",
   "metadata": {},
   "source": [
    "## Bag-of-Words"
   ]
  },
  {
   "cell_type": "code",
   "execution_count": 51,
   "id": "knowing-draft",
   "metadata": {},
   "outputs": [],
   "source": [
    "from sklearn.feature_extraction.text import CountVectorizer\n",
    "cv = CountVectorizer(\n",
    "    max_df=0.8,\n",
    "    stop_words=\"english\", \n",
    "    max_features=10000, \n",
    "    ngram_range=(1,3)\n",
    ")"
   ]
  },
  {
   "cell_type": "code",
   "execution_count": 41,
   "id": "broad-jewel",
   "metadata": {},
   "outputs": [],
   "source": [
    "X = cv.fit_transform(cleaned_documents)"
   ]
  },
  {
   "cell_type": "code",
   "execution_count": 42,
   "id": "electoral-illness",
   "metadata": {},
   "outputs": [
    {
     "data": {
      "text/plain": [
       "['year',\n",
       " 'receive',\n",
       " 'notice',\n",
       " 'payment',\n",
       " 'transport',\n",
       " 'tax',\n",
       " 'receive notice',\n",
       " 'payment transport',\n",
       " 'transport tax',\n",
       " 'payment transport tax']"
      ]
     },
     "execution_count": 42,
     "metadata": {},
     "output_type": "execute_result"
    }
   ],
   "source": [
    "list(cv.vocabulary_.keys())[:10]"
   ]
  },
  {
   "cell_type": "code",
   "execution_count": 46,
   "id": "emotional-third",
   "metadata": {},
   "outputs": [],
   "source": [
    "def get_top_n_grams(corpus, top_k, n):\n",
    "    \"\"\"\n",
    "    Function that receives a list of documents (corpus) and extracts\n",
    "        the top k most frequent n-grams for that corpus.\n",
    "        \n",
    "    :param corpus: list of texts\n",
    "    :param top_k: int with the number of n-grams that we want to extract\n",
    "    :param n: n gram type to be considered \n",
    "             (if n=1 extracts unigrams, if n=2 extracts bigrams, ...)\n",
    "             \n",
    "    :return: Returns a sorted dataframe in which the first column \n",
    "        contains the extracted ngrams and the second column contains\n",
    "        the respective counts\n",
    "    \"\"\"\n",
    "    vec = CountVectorizer(ngram_range=(n, n), max_features=2000).fit(corpus)\n",
    "    \n",
    "    bag_of_words = vec.transform(corpus)\n",
    "    \n",
    "    sum_words = bag_of_words.sum(axis=0) \n",
    "    \n",
    "    words_freq = []\n",
    "    for word, idx in vec.vocabulary_.items():\n",
    "        words_freq.append((word, sum_words[0, idx]))\n",
    "        \n",
    "    words_freq = sorted(words_freq, key=lambda x: x[1], reverse=True)\n",
    "    top_df = pd.DataFrame(words_freq[:top_k])\n",
    "    top_df.columns = [\"Ngram\", \"Freq\"]\n",
    "    return top_df"
   ]
  },
  {
   "cell_type": "code",
   "execution_count": 44,
   "id": "close-reference",
   "metadata": {},
   "outputs": [
    {
     "data": {
      "text/html": [
       "<div>\n",
       "<style scoped>\n",
       "    .dataframe tbody tr th:only-of-type {\n",
       "        vertical-align: middle;\n",
       "    }\n",
       "\n",
       "    .dataframe tbody tr th {\n",
       "        vertical-align: top;\n",
       "    }\n",
       "\n",
       "    .dataframe thead th {\n",
       "        text-align: right;\n",
       "    }\n",
       "</style>\n",
       "<table border=\"1\" class=\"dataframe\">\n",
       "  <thead>\n",
       "    <tr style=\"text-align: right;\">\n",
       "      <th></th>\n",
       "      <th>Ngram</th>\n",
       "      <th>Freq</th>\n",
       "    </tr>\n",
       "  </thead>\n",
       "  <tbody>\n",
       "    <tr>\n",
       "      <th>0</th>\n",
       "      <td>year</td>\n",
       "      <td>1695</td>\n",
       "    </tr>\n",
       "    <tr>\n",
       "      <th>1</th>\n",
       "      <td>said</td>\n",
       "      <td>1486</td>\n",
       "    </tr>\n",
       "    <tr>\n",
       "      <th>2</th>\n",
       "      <td>russian</td>\n",
       "      <td>1104</td>\n",
       "    </tr>\n",
       "    <tr>\n",
       "      <th>3</th>\n",
       "      <td>new</td>\n",
       "      <td>830</td>\n",
       "    </tr>\n",
       "    <tr>\n",
       "      <th>4</th>\n",
       "      <td>people</td>\n",
       "      <td>759</td>\n",
       "    </tr>\n",
       "    <tr>\n",
       "      <th>5</th>\n",
       "      <td>time</td>\n",
       "      <td>739</td>\n",
       "    </tr>\n",
       "    <tr>\n",
       "      <th>6</th>\n",
       "      <td>first</td>\n",
       "      <td>652</td>\n",
       "    </tr>\n",
       "    <tr>\n",
       "      <th>7</th>\n",
       "      <td>according</td>\n",
       "      <td>651</td>\n",
       "    </tr>\n",
       "    <tr>\n",
       "      <th>8</th>\n",
       "      <td>russia</td>\n",
       "      <td>647</td>\n",
       "    </tr>\n",
       "    <tr>\n",
       "      <th>9</th>\n",
       "      <td>country</td>\n",
       "      <td>631</td>\n",
       "    </tr>\n",
       "  </tbody>\n",
       "</table>\n",
       "</div>"
      ],
      "text/plain": [
       "       Ngram  Freq\n",
       "0       year  1695\n",
       "1       said  1486\n",
       "2    russian  1104\n",
       "3        new   830\n",
       "4     people   759\n",
       "5       time   739\n",
       "6      first   652\n",
       "7  according   651\n",
       "8     russia   647\n",
       "9    country   631"
      ]
     },
     "execution_count": 44,
     "metadata": {},
     "output_type": "execute_result"
    }
   ],
   "source": [
    "top_df = get_top_n_grams(cleaned_documents, top_k=20, n=1)\n",
    "top_df.head(10)"
   ]
  },
  {
   "cell_type": "code",
   "execution_count": 45,
   "id": "indirect-footage",
   "metadata": {},
   "outputs": [],
   "source": [
    "import numpy as np\n",
    "import matplotlib.pyplot as plt\n",
    "def plot_frequencies(top_df):\n",
    "    \"\"\"\n",
    "    Function that receives a dataframe from the \"get_top_n_grams\" function\n",
    "    and plots the frequencies in a bar plot.\n",
    "    \"\"\"\n",
    "    x_labels = top_df[\"Ngram\"][:30]\n",
    "    y_pos = np.arange(len(x_labels))\n",
    "    values = top_df[\"Freq\"][:30]\n",
    "    plt.bar(y_pos, values, align='center', alpha=0.5)\n",
    "    plt.xticks(y_pos, x_labels)\n",
    "    plt.ylabel('Frequencies')\n",
    "    plt.title('Words')\n",
    "    plt.xticks(rotation=90)\n",
    "    plt.show()"
   ]
  },
  {
   "cell_type": "code",
   "execution_count": 46,
   "id": "jewish-schedule",
   "metadata": {},
   "outputs": [
    {
     "data": {
      "image/png": "[encoded data removed]",
      "text/plain": [
       "<Figure size 432x288 with 1 Axes>"
      ]
     },
     "metadata": {
      "needs_background": "light"
     },
     "output_type": "display_data"
    }
   ],
   "source": [
    "plot_frequencies(top_df)"
   ]
  },
  {
   "cell_type": "code",
   "execution_count": 47,
   "id": "threatened-statistics",
   "metadata": {},
   "outputs": [
    {
     "data": {
      "image/png": "[encoded data removed]",
      "text/plain": [
       "<Figure size 432x288 with 1 Axes>"
      ]
     },
     "metadata": {
      "needs_background": "light"
     },
     "output_type": "display_data"
    }
   ],
   "source": [
    "top_df = get_top_n_grams(cleaned_documents, top_k=20, n=2)\n",
    "plot_frequencies(top_df)"
   ]
  },
  {
   "cell_type": "code",
   "execution_count": 48,
   "id": "dynamic-degree",
   "metadata": {
    "scrolled": false
   },
   "outputs": [
    {
     "data": {
      "image/png": "[encoded data removed]",
      "text/plain": [
       "<Figure size 432x288 with 1 Axes>"
      ]
     },
     "metadata": {
      "needs_background": "light"
     },
     "output_type": "display_data"
    }
   ],
   "source": [
    "top_df = get_top_n_grams(cleaned_documents, top_k=20, n=3)\n",
    "plot_frequencies(top_df)"
   ]
  },
  {
   "cell_type": "code",
   "execution_count": 49,
   "id": "narrow-lawyer",
   "metadata": {},
   "outputs": [
    {
     "data": {
      "image/png": "[encoded data removed]",
      "text/plain": [
       "<Figure size 432x288 with 1 Axes>"
      ]
     },
     "metadata": {
      "needs_background": "light"
     },
     "output_type": "display_data"
    }
   ],
   "source": [
    "top_df = get_top_n_grams(cleaned_documents, top_k=20, n=4)\n",
    "plot_frequencies(top_df)"
   ]
  },
  {
   "cell_type": "markdown",
   "id": "quiet-sacramento",
   "metadata": {},
   "source": [
    "# Rouge"
   ]
  },
  {
   "cell_type": "code",
   "execution_count": 129,
   "id": "regular-answer",
   "metadata": {},
   "outputs": [],
   "source": [
    "from rouge import Rouge"
   ]
  },
  {
   "cell_type": "code",
   "execution_count": 142,
   "id": "local-namibia",
   "metadata": {},
   "outputs": [],
   "source": [
    "model_out = translation[4]\n",
    "\n",
    "ref_out = references[4]"
   ]
  },
  {
   "cell_type": "code",
   "execution_count": 143,
   "id": "careful-digit",
   "metadata": {},
   "outputs": [],
   "source": [
    "rouge = Rouge()"
   ]
  },
  {
   "cell_type": "code",
   "execution_count": 144,
   "id": "explicit-progress",
   "metadata": {},
   "outputs": [
    {
     "data": {
      "text/plain": [
       "[{'rouge-1': {'f': 0.39999999520000007, 'p': 0.5, 'r': 0.3333333333333333},\n",
       "  'rouge-2': {'f': 0.0, 'p': 0.0, 'r': 0.0},\n",
       "  'rouge-l': {'f': 0.39999999520000007, 'p': 0.5, 'r': 0.3333333333333333}}]"
      ]
     },
     "execution_count": 144,
     "metadata": {},
     "output_type": "execute_result"
    }
   ],
   "source": [
    "rouge.get_scores(model_out, ref_out)"
   ]
  },
  {
   "cell_type": "code",
   "execution_count": 145,
   "id": "unknown-penalty",
   "metadata": {},
   "outputs": [
    {
     "data": {
      "text/plain": [
       "{'rouge-1': {'f': 0.39999999520000007, 'p': 0.5, 'r': 0.3333333333333333},\n",
       " 'rouge-2': {'f': 0.0, 'p': 0.0, 'r': 0.0},\n",
       " 'rouge-l': {'f': 0.39999999520000007, 'p': 0.5, 'r': 0.3333333333333333}}"
      ]
     },
     "execution_count": 145,
     "metadata": {},
     "output_type": "execute_result"
    }
   ],
   "source": [
    "rouge.get_scores(model_out, ref_out, avg=True)"
   ]
  },
  {
   "cell_type": "code",
   "execution_count": 146,
   "id": "seasonal-understanding",
   "metadata": {},
   "outputs": [
    {
     "data": {
      "text/plain": [
       "'ethiopia verge schism'"
      ]
     },
     "execution_count": 146,
     "metadata": {},
     "output_type": "execute_result"
    }
   ],
   "source": [
    "references[4]"
   ]
  },
  {
   "cell_type": "markdown",
   "id": "handled-torture",
   "metadata": {},
   "source": [
    "# chrf_score"
   ]
  },
  {
   "cell_type": "code",
   "execution_count": 51,
   "id": "permanent-progressive",
   "metadata": {},
   "outputs": [],
   "source": [
    "import nltk.translate.chrf_score as chrf"
   ]
  },
  {
   "cell_type": "code",
   "execution_count": 50,
   "id": "thermal-california",
   "metadata": {},
   "outputs": [],
   "source": [
    "a = translation[4].split()\n",
    "b = references[4].split()"
   ]
  },
  {
   "cell_type": "code",
   "execution_count": 109,
   "id": "advised-lloyd",
   "metadata": {
    "scrolled": true
   },
   "outputs": [
    {
     "name": "stdout",
     "output_type": "stream",
     "text": [
      "0.39355200651404104\n",
      "0.39355200651404104\n"
     ]
    }
   ],
   "source": [
    "print(chrf.sentence_chrf(a, b))\n",
    "print(chrf.sentence_chrf(translation[4], references[4]))"
   ]
  },
  {
   "cell_type": "code",
   "execution_count": 108,
   "id": "elect-designer",
   "metadata": {},
   "outputs": [
    {
     "data": {
      "text/plain": [
       "0.39355200651404104"
      ]
     },
     "execution_count": 108,
     "metadata": {},
     "output_type": "execute_result"
    }
   ],
   "source": [
    "chrf.corpus_chrf([translation[4]], [references[4]])"
   ]
  },
  {
   "cell_type": "code",
   "execution_count": 55,
   "id": "according-inspiration",
   "metadata": {},
   "outputs": [
    {
     "data": {
      "text/plain": [
       "(0.2857142857142857, 0.4, 0.38461538461538464, 2)"
      ]
     },
     "execution_count": 55,
     "metadata": {},
     "output_type": "execute_result"
    }
   ],
   "source": [
    "chrf.chrf_precision_recall_fscore_support(a, b,n=1)"
   ]
  },
  {
   "cell_type": "code",
   "execution_count": 61,
   "id": "accepting-writer",
   "metadata": {},
   "outputs": [],
   "source": [
    "# https://www.nltk.org/_modules/nltk/translate/chrf_score.html\n",
    "\n",
    "from collections import Counter, defaultdict\n",
    "import re\n",
    "\n",
    "from nltk.util import ngrams\n",
    "\n",
    "\n",
    "def sentence_chrf(\n",
    "    reference, hypothesis, min_len=1, max_len=6, beta=3.0, ignore_whitespace=True\n",
    "):\n",
    "   \n",
    "    return corpus_chrf(\n",
    "        [reference],\n",
    "        [hypothesis],\n",
    "        min_len,\n",
    "        max_len,\n",
    "        beta=beta,\n",
    "        ignore_whitespace=ignore_whitespace,\n",
    "    )\n",
    "\n",
    "\n",
    "\n",
    "def _preprocess(sent, ignore_whitespace):\n",
    "    if type(sent) != str:\n",
    "        # turn list of tokens into a string\n",
    "        sent = \" \".join(sent)\n",
    "\n",
    "    if ignore_whitespace:\n",
    "        sent = re.sub(r\"\\s+\", \"\", sent)\n",
    "    return sent\n",
    "\n",
    "\n",
    "def chrf_precision_recall_fscore_support(\n",
    "    reference, hypothesis, n, beta=3.0, epsilon=1e-16\n",
    "):\n",
    "  \n",
    "    ref_ngrams = Counter(ngrams(reference, n))\n",
    "    hyp_ngrams = Counter(ngrams(hypothesis, n))\n",
    "\n",
    "    # calculate the number of ngram matches\n",
    "    overlap_ngrams = ref_ngrams & hyp_ngrams\n",
    "    tp = sum(overlap_ngrams.values())  # True positives.\n",
    "    tpfp = sum(hyp_ngrams.values())  # True positives + False positives.\n",
    "    tpfn = sum(ref_ngrams.values())  # True positives + False negatives.\n",
    "\n",
    "    try:\n",
    "        prec = tp / tpfp  # precision\n",
    "        rec = tp / tpfn  # recall\n",
    "        factor = beta ** 2\n",
    "        fscore = (1 + factor) * (prec * rec) / (factor * prec + rec)\n",
    "    except ZeroDivisionError:\n",
    "        prec = rec = fscore = epsilon\n",
    "    return prec, rec, fscore, tp\n",
    "\n",
    "\n",
    "\n",
    "def corpus_chrf(\n",
    "    references, hypotheses, min_len=1, max_len=6, beta=3.0, ignore_whitespace=True\n",
    "):\n",
    "   \n",
    "\n",
    "    assert len(references) == len(\n",
    "        hypotheses\n",
    "    ), \"The number of hypotheses and their references should be the same\"\n",
    "    num_sents = len(hypotheses)\n",
    "\n",
    "    # Keep f-scores for each n-gram order separate\n",
    "    ngram_fscores = defaultdict(lambda: list())\n",
    "\n",
    "    # Iterate through each hypothesis and their corresponding references.\n",
    "    for reference, hypothesis in zip(references, hypotheses):\n",
    "\n",
    "        # preprocess both reference and hypothesis\n",
    "        reference = _preprocess(reference, ignore_whitespace)\n",
    "        hypothesis = _preprocess(hypothesis, ignore_whitespace)\n",
    "\n",
    "        # Calculate f-scores for each sentence and for each n-gram order\n",
    "        # separately.\n",
    "        for n in range(min_len, max_len + 1):\n",
    "            # Compute the precision, recall, fscore and support.\n",
    "            prec, rec, fscore, tp = chrf_precision_recall_fscore_support(\n",
    "                reference, hypothesis, n, beta=beta\n",
    "            )\n",
    "            ngram_fscores[n].append(fscore)\n",
    "\n",
    "    # how many n-gram sizes\n",
    "    num_ngram_sizes = len(ngram_fscores)\n",
    "\n",
    "    # sum of f-scores over all sentences for each n-gram order\n",
    "    total_scores = [sum(fscores) for n, fscores in ngram_fscores.items()]\n",
    "\n",
    "    # macro-average over n-gram orders and over all sentences\n",
    "    return (sum(total_scores) / num_ngram_sizes) / num_sents"
   ]
  },
  {
   "cell_type": "code",
   "execution_count": 64,
   "id": "revolutionary-series",
   "metadata": {},
   "outputs": [
    {
     "data": {
      "text/plain": [
       "0.39355200651404104"
      ]
     },
     "execution_count": 64,
     "metadata": {},
     "output_type": "execute_result"
    }
   ],
   "source": [
    "sentence_chrf([translation[4]], [references[4]])"
   ]
  },
  {
   "cell_type": "code",
   "execution_count": 63,
   "id": "stunning-korea",
   "metadata": {},
   "outputs": [
    {
     "data": {
      "text/plain": [
       "(0.5714285714285714, 0.7407407407407407, 0.7194244604316548, 20)"
      ]
     },
     "execution_count": 63,
     "metadata": {},
     "output_type": "execute_result"
    }
   ],
   "source": [
    "chrf_precision_recall_fscore_support(translation[4], references[4], n=1)"
   ]
  },
  {
   "cell_type": "markdown",
   "id": "adjusted-contributor",
   "metadata": {},
   "source": [
    "# GLEU"
   ]
  },
  {
   "cell_type": "code",
   "execution_count": 98,
   "id": "international-calibration",
   "metadata": {},
   "outputs": [],
   "source": [
    "import nltk\n",
    "import nltk.translate.gleu_score as gleu\n",
    "\n",
    "import numpy\n",
    "import os\n",
    "\n",
    "try:\n",
    "  nltk.data.find('tokenizers/punkt')\n",
    "except LookupError:\n",
    "  nltk.download('punkt')"
   ]
  },
  {
   "cell_type": "code",
   "execution_count": 99,
   "id": "registered-computer",
   "metadata": {},
   "outputs": [],
   "source": [
    "hyp = str(translation[4]).split()\n",
    "ref_a = str(references[4]).split()"
   ]
  },
  {
   "cell_type": "code",
   "execution_count": 100,
   "id": "knowing-spice",
   "metadata": {},
   "outputs": [
    {
     "data": {
      "text/plain": [
       "['is', 'ethiopia', 'on', 'the', 'verge', 'of', 'schism?']"
      ]
     },
     "execution_count": 100,
     "metadata": {},
     "output_type": "execute_result"
    }
   ],
   "source": [
    "ref_a"
   ]
  },
  {
   "cell_type": "code",
   "execution_count": 101,
   "id": "increasing-westminster",
   "metadata": {},
   "outputs": [
    {
     "name": "stdout",
     "output_type": "stream",
     "text": [
      "Hyp and ref_a are the same: 0.13636363636363635\n"
     ]
    }
   ],
   "source": [
    "score_ref_a = gleu.sentence_gleu([ref_a], hyp)\n",
    "print(\"Hyp and ref_a are the same: {}\".format(score_ref_a))"
   ]
  },
  {
   "cell_type": "code",
   "execution_count": 102,
   "id": "daily-despite",
   "metadata": {},
   "outputs": [
    {
     "name": "stdout",
     "output_type": "stream",
     "text": [
      "1 document with 1 reference sentence: 0.13636363636363635\n"
     ]
    }
   ],
   "source": [
    "score_ref_a = gleu.corpus_gleu([[ref_a]], [hyp])\n",
    "print(\"1 document with 1 reference sentence: {}\".format(score_ref_a))"
   ]
  },
  {
   "cell_type": "code",
   "execution_count": 103,
   "id": "mathematical-roommate",
   "metadata": {},
   "outputs": [
    {
     "name": "stdout",
     "output_type": "stream",
     "text": [
      "1 to 4 grams: 0.13636363636363635\n",
      "1 to 2 grams: 0.23076923076923078\n"
     ]
    }
   ],
   "source": [
    "score_1to4grams = gleu.sentence_gleu([ref_a], hyp, min_len=1, max_len=4)\n",
    "score_1to2grams = gleu.sentence_gleu([ref_a], hyp, min_len=1, max_len=2)\n",
    "print(\"1 to 4 grams: {}\".format(score_1to4grams))\n",
    "print(\"1 to 2 grams: {}\".format(score_1to2grams))"
   ]
  },
  {
   "cell_type": "markdown",
   "id": "swiss-profession",
   "metadata": {},
   "source": [
    "# Meteor"
   ]
  },
  {
   "cell_type": "code",
   "execution_count": 96,
   "id": "organized-situation",
   "metadata": {},
   "outputs": [
    {
     "data": {
      "text/plain": [
       "0.3605769230769231"
      ]
     },
     "execution_count": 96,
     "metadata": {},
     "output_type": "execute_result"
    }
   ],
   "source": [
    "import nltk.translate.meteor_score as meteor\n",
    "meteor.meteor_score([translation[4]], references[4])"
   ]
  },
  {
   "cell_type": "code",
   "execution_count": null,
   "id": "adaptive-guinea",
   "metadata": {},
   "outputs": [],
   "source": []
  }
 ],
 "metadata": {
  "kernelspec": {
   "display_name": "my_env",
   "language": "python",
   "name": "my_env"
  },
  "language_info": {
   "codemirror_mode": {
    "name": "ipython",
    "version": 3
   },
   "file_extension": ".py",
   "mimetype": "text/x-python",
   "name": "python",
   "nbconvert_exporter": "python",
   "pygments_lexer": "ipython3",
   "version": "3.8.5"
  }
 },
 "nbformat": 4,
 "nbformat_minor": 5
}
