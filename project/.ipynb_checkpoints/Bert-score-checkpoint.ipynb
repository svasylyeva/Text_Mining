{
 "cells": [
  {
   "cell_type": "code",
   "execution_count": null,
   "metadata": {},
   "outputs": [],
   "source": [
    "#!pip install bert\n",
    "import bert_score as bert"
   ]
  },
  {
   "cell_type": "code",
   "execution_count": null,
   "metadata": {},
   "outputs": [],
   "source": [
    "def bert_metric(translation, references, lang):\n",
    "    P, R, bert_metric = bert.score(translation, references, lang=lang, verbose=True)\n",
    "    return bert_metric"
   ]
  },
  {
   "cell_type": "code",
   "execution_count": null,
   "metadata": {},
   "outputs": [],
   "source": [
    "bert_cs = bert_metric(translation_cs, references_cs, 'en')\n",
    "scores_cs['bert'] = bert_cs\n",
    "\n",
    "bert_de = bert_metric(translation_de, references_de, 'en')\n",
    "scores_de['bert'] = bert_de\n",
    "\n",
    "bert_en_fi = bert_metric(translation_en_fi, references_en_fi, 'others')\n",
    "scores_en_fi['bert'] = bert_en_fi\n",
    "\n",
    "bert_en_zh = bert_metric(translation_en_zh, references_en_zh, 'zh')\n",
    "scores_en_zh['bert'] = bert_en_zh\n",
    "\n",
    "bert_ru = bert_metric(translation_ru, references_ru, 'en')\n",
    "scores_ru['bert'] = bert_ru\n",
    "\n",
    "bert_zh = bert_metric(translation_zh, references_zh, 'en')\n",
    "scores_zh['bert'] = bert_zh"
   ]
  },
  {
   "cell_type": "code",
   "execution_count": null,
   "metadata": {},
   "outputs": [],
   "source": []
  },
  {
   "cell_type": "code",
   "execution_count": null,
   "metadata": {},
   "outputs": [],
   "source": [
    "def corr(scores):\n",
    "    chf = scores['z-score'].corr(scores['chf'])\n",
    "    gleu = scores['z-score'].corr(scores['gleu'])\n",
    "    meteor = scores['z-score'].corr(scores['meteor'])\n",
    "    bleu = scores['z-score'].corr(scores['bleu'])\n",
    "    nist = scores['z-score'].corr(scores['nist'])\n",
    "    bert = scores['z-score'].corr(scores['bert'])\n",
    "    corr = [chf, gleu, meteor, bleu, nist, bert]\n",
    "    return corr"
   ]
  },
  {
   "cell_type": "code",
   "execution_count": null,
   "metadata": {},
   "outputs": [],
   "source": [
    "corr_cs = corr(scores_cs)\n",
    "corr_de = corr(scores_de)\n",
    "corr_en_fi = corr(scores_en_fi)\n",
    "corr_en_zh = corr(scores_en_zh)\n",
    "corr_ru = corr(scores_ru)\n",
    "corr_zh = corr(scores_zh)"
   ]
  }
 ],
 "metadata": {
  "kernelspec": {
   "display_name": "Python 3",
   "language": "python",
   "name": "python3"
  },
  "language_info": {
   "codemirror_mode": {
    "name": "ipython",
    "version": 3
   },
   "file_extension": ".py",
   "mimetype": "text/x-python",
   "name": "python",
   "nbconvert_exporter": "python",
   "pygments_lexer": "ipython3",
   "version": "3.8.5"
  }
 },
 "nbformat": 4,
 "nbformat_minor": 5
}
