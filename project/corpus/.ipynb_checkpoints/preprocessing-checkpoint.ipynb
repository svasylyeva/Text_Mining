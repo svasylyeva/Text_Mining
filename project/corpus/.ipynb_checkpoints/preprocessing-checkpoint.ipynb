{
 "cells": [
  {
   "cell_type": "code",
   "execution_count": 4,
   "metadata": {},
   "outputs": [],
   "source": [
    "import pandas as pd\n",
    "import os"
   ]
  },
  {
   "cell_type": "markdown",
   "metadata": {},
   "source": [
    "Download the data from:\n",
    "- http://www.statmt.org/wmt17/results.html \n",
    "\n",
    "News translation task: **segment-level human data, submissions and scripts to reproduce the results published in the metrics task paper.**. "
   ]
  },
  {
   "cell_type": "code",
   "execution_count": 5,
   "metadata": {},
   "outputs": [],
   "source": [
    "SRC_PREFIX = 'wmt17-metrics-task-package/input/wmt17-metrics-task/wmt17-submitted-data/txt/sources/'\n",
    "REF_PREFIX = 'wmt17-metrics-task-package/input/wmt17-metrics-task/wmt17-submitted-data/txt/references/'\n",
    "SYS_PREFIX = 'wmt17-metrics-task-package/input/wmt17-metrics-task/wmt17-submitted-data/txt/system-outputs/newstest2017/'"
   ]
  },
  {
   "cell_type": "code",
   "execution_count": 6,
   "metadata": {},
   "outputs": [],
   "source": [
    "sources = [line.strip() for line in open(SRC_PREFIX+'newstest2017-ende-src.en')]\n",
    "references = [line.strip() for line in open(REF_PREFIX+'newstest2017-ende-ref.de')]"
   ]
  },
  {
   "cell_type": "markdown",
   "metadata": {},
   "source": [
    "### EN-DE corpus:"
   ]
  },
  {
   "cell_type": "code",
   "execution_count": 7,
   "metadata": {},
   "outputs": [],
   "source": [
    "sys_outputs_files = os.listdir(SYS_PREFIX+'en-de/')\n",
    "systems = ['.'.join(submission_name.split('.')[1:-1]) for submission_name in sys_outputs_files]"
   ]
  },
  {
   "cell_type": "code",
   "execution_count": 8,
   "metadata": {},
   "outputs": [
    {
     "data": {
      "text/plain": [
       "['online-F.0',\n",
       " 'LIUM-NMT.4900',\n",
       " 'LMU-nmt-reranked.4934',\n",
       " 'online-G.0',\n",
       " 'C-3MA.4959',\n",
       " 'fbk-nmt-combination.4870',\n",
       " 'RWTH-nmt-ensemble.4921',\n",
       " 'PROMT-Rule-based.4735',\n",
       " 'uedin-nmt.4722',\n",
       " 'KIT.4950',\n",
       " 'online-A.0',\n",
       " 'xmu.4910',\n",
       " 'SYSTRAN.4847',\n",
       " 'online-B.0',\n",
       " 'LMU-nmt-single.4893',\n",
       " 'TALP-UPC.4834']"
      ]
     },
     "execution_count": 8,
     "metadata": {},
     "output_type": "execute_result"
    }
   ],
   "source": [
    "systems"
   ]
  },
  {
   "cell_type": "code",
   "execution_count": 9,
   "metadata": {},
   "outputs": [],
   "source": [
    "def get_system_outputs(lp):\n",
    "    sys_outputs_files = os.listdir(SYS_PREFIX+f'{lp}/')\n",
    "    systems = ['.'.join(submission_name.split('.')[1:-1]) for submission_name in sys_outputs_files]\n",
    "    system_outputs = {}\n",
    "    for system in sys_outputs_files:\n",
    "        system_name = \".\".join(system.split('.')[1:-1])\n",
    "        system_outputs[system_name] = [\n",
    "            line.strip() for line in open(SYS_PREFIX+f'{lp}/'+system)\n",
    "        ]\n",
    "    return system_outputs"
   ]
  },
  {
   "cell_type": "code",
   "execution_count": 10,
   "metadata": {},
   "outputs": [],
   "source": [
    "en_de_data = pd.DataFrame({'src': sources, 'ref': references, **get_system_outputs('en-de')})"
   ]
  },
  {
   "cell_type": "code",
   "execution_count": 11,
   "metadata": {},
   "outputs": [
    {
     "data": {
      "text/html": [
       "<div>\n",
       "<style scoped>\n",
       "    .dataframe tbody tr th:only-of-type {\n",
       "        vertical-align: middle;\n",
       "    }\n",
       "\n",
       "    .dataframe tbody tr th {\n",
       "        vertical-align: top;\n",
       "    }\n",
       "\n",
       "    .dataframe thead th {\n",
       "        text-align: right;\n",
       "    }\n",
       "</style>\n",
       "<table border=\"1\" class=\"dataframe\">\n",
       "  <thead>\n",
       "    <tr style=\"text-align: right;\">\n",
       "      <th></th>\n",
       "      <th>src</th>\n",
       "      <th>ref</th>\n",
       "      <th>online-F.0</th>\n",
       "      <th>LIUM-NMT.4900</th>\n",
       "      <th>LMU-nmt-reranked.4934</th>\n",
       "      <th>online-G.0</th>\n",
       "      <th>C-3MA.4959</th>\n",
       "      <th>fbk-nmt-combination.4870</th>\n",
       "      <th>RWTH-nmt-ensemble.4921</th>\n",
       "      <th>PROMT-Rule-based.4735</th>\n",
       "      <th>uedin-nmt.4722</th>\n",
       "      <th>KIT.4950</th>\n",
       "      <th>online-A.0</th>\n",
       "      <th>xmu.4910</th>\n",
       "      <th>SYSTRAN.4847</th>\n",
       "      <th>online-B.0</th>\n",
       "      <th>LMU-nmt-single.4893</th>\n",
       "      <th>TALP-UPC.4834</th>\n",
       "    </tr>\n",
       "  </thead>\n",
       "  <tbody>\n",
       "    <tr>\n",
       "      <th>0</th>\n",
       "      <td>28-Year-Old Chef Found Dead at San Francisco Mall</td>\n",
       "      <td>28-jähriger Koch in San Francisco Mall tot auf...</td>\n",
       "      <td>28-jähriger Chef Found Dead bei San Francisco ...</td>\n",
       "      <td>28-jähriger Chef Found tot bei San Francisco Mall</td>\n",
       "      <td>28-jähriger Chef fand Tote bei San Francisco Mall</td>\n",
       "      <td>Der 28-Jährige Küchenchef Gefunden, Tot in San...</td>\n",
       "      <td>28-Jähriger-Chef Faund Dead bei San Francisco ...</td>\n",
       "      <td>28-jähriger Chef Found Dead bei San Francisco ...</td>\n",
       "      <td>28-Jähriger Chef Fund Dead bei San Francisco Mall</td>\n",
       "      <td>Der 28-jährige Chef gefundene Tote am San Fran...</td>\n",
       "      <td>28-jähriger Chef Found in der San Francisco Ma...</td>\n",
       "      <td>28-jähriger Chef Found Dead in San Francisco Mall</td>\n",
       "      <td>﻿28 Jahre alt Chef gefunden tot in San Francis...</td>\n",
       "      <td>28-jähriger Chef Found Dead bei San Francisco ...</td>\n",
       "      <td>28-Jähriger Chef Found Dead bei San Francisco ...</td>\n",
       "      <td>28-jährige Chef gefunden tot in San Francisco ...</td>\n",
       "      <td>28-jähriger Chef fand Tote bei San Francisco Mall</td>\n",
       "      <td>28-jähriger Chef Found Dead am San Francisco M...</td>\n",
       "    </tr>\n",
       "    <tr>\n",
       "      <th>1</th>\n",
       "      <td>A 28-year-old chef who had recently moved to S...</td>\n",
       "      <td>Ein 28-jähriger Koch, der vor kurzem nach San ...</td>\n",
       "      <td>Ein 28-jähriger Chef, der vor kurzem nach San ...</td>\n",
       "      <td>Ein 28-jähriger Koch, der vor kurzem nach San ...</td>\n",
       "      <td>Ein 28-jähriger Küchenchef, der kürzlich nach ...</td>\n",
       "      <td>Eine 28-jährige Koch, der hatte vor kurzem nac...</td>\n",
       "      <td>Ein 28 Jahre alter Chefkoch, der vor kurzem in...</td>\n",
       "      <td>Ein 28-jähriger Koch, der kürzlich nach San Fr...</td>\n",
       "      <td>Ein 28 -jähriger Koch, der kürzlich nach San F...</td>\n",
       "      <td>Ein 28-jähriger Chef, der sich kürzlich nach S...</td>\n",
       "      <td>Ein 28-jähriger Koch, der kürzlich nach San Fr...</td>\n",
       "      <td>Ein 28-jähriger Chefkoch, der vor kurzem nach ...</td>\n",
       "      <td>Ein 28 Jahre altes Chef, der vor kurzem nach S...</td>\n",
       "      <td>Ein 28-jähriger Koch, der kürzlich nach San Fr...</td>\n",
       "      <td>Eine 28-jährige Köchin, die kürzlich nach San ...</td>\n",
       "      <td>Ein 28-jähriger Chef, der vor kurzem nach San ...</td>\n",
       "      <td>Ein 28-jähriger Küchenchef, der kürzlich nach ...</td>\n",
       "      <td>Ein 28-jähriger Küchenchef, der vor kurzem nac...</td>\n",
       "    </tr>\n",
       "    <tr>\n",
       "      <th>2</th>\n",
       "      <td>But the victim's brother says he can't think o...</td>\n",
       "      <td>Der Bruder des Opfers sagte aus, dass er sich ...</td>\n",
       "      <td>Aber der Bruder des Opfers sagt, dass er nicht...</td>\n",
       "      <td>Aber der Bruder des Opfers sagt, er könne niem...</td>\n",
       "      <td>Doch der Bruder des Opfers sagt, er könne niem...</td>\n",
       "      <td>Aber der Bruder des Opfers sagt, er kann nicht...</td>\n",
       "      <td>Aber der Bruder des Opfers sagt, er könne nich...</td>\n",
       "      <td>Aber der Bruder des Opfers sagt, er könne niem...</td>\n",
       "      <td>Aber der Bruder des Opfers sagt, er könne niem...</td>\n",
       "      <td>Aber der Bruder des Opfers sagt, dass er an ni...</td>\n",
       "      <td>Doch der Bruder des Opfers sagt, er könne nich...</td>\n",
       "      <td>Aber der Bruder des Opfers sagt, er könne nich...</td>\n",
       "      <td>Aber der Bruder des Opfers sagt, er könne nich...</td>\n",
       "      <td>Doch der Bruder des Opfers sagt, er könne nich...</td>\n",
       "      <td>Aber der Bruder des Opfers sagt, er könne nich...</td>\n",
       "      <td>Aber der Bruder des Opfers sagt, er könne nich...</td>\n",
       "      <td>Doch der Bruder des Opfers sagt, er könne niem...</td>\n",
       "      <td>Aber der Bruder des Opfers sagt, er könne jema...</td>\n",
       "    </tr>\n",
       "    <tr>\n",
       "      <th>3</th>\n",
       "      <td>The body found at the Westfield Mall Wednesday...</td>\n",
       "      <td>Der am Mittwoch morgen in der Westfield Mall g...</td>\n",
       "      <td>Der Körper, der am Westfield-Mall Mittwoch Mor...</td>\n",
       "      <td>Der Körper, der am Mittwochmorgen im Westfield...</td>\n",
       "      <td>Der Körper am Westfeld Mall am Mittwochmorgen ...</td>\n",
       "      <td>Der Körper fand in der Westfield Mall Mittwoch...</td>\n",
       "      <td>Das im Westfield-Mall-Mittwochmorgen aufgestel...</td>\n",
       "      <td>Die Leiche am Westfield Mall am Mittwochmorgen...</td>\n",
       "      <td>Der am Westfield Mall Mittwochmorgen gefundene...</td>\n",
       "      <td>Der Körper, der am Einkaufszentrum von Westfie...</td>\n",
       "      <td>Der am Mittwochmorgen an der Westfield Mall ge...</td>\n",
       "      <td>Der Körper, der am Westfield Mall am Mittwochm...</td>\n",
       "      <td>Die Leiche fand am Mittwoch Vormittag der Mall...</td>\n",
       "      <td>Die am Mittwochmorgen am Westfield Mall gefund...</td>\n",
       "      <td>Der am WestField Mall Mittwoch Morgen festgeno...</td>\n",
       "      <td>Der Körper, der am Westfield Mall am Mittwochm...</td>\n",
       "      <td>Der Körper, der am Mittwochmorgen im Westfield...</td>\n",
       "      <td>Der Körper, der im Westfield Mall Mittwoch Mor...</td>\n",
       "    </tr>\n",
       "    <tr>\n",
       "      <th>4</th>\n",
       "      <td>The San Francisco Police Department said the d...</td>\n",
       "      <td>Das San Francisco Police Department sagte, das...</td>\n",
       "      <td>San Francisco Police Department sagte, dass de...</td>\n",
       "      <td>Die Polizei von San Francisco sagte, der Tod s...</td>\n",
       "      <td>Das Polizeiministerium von San Francisco sagte...</td>\n",
       "      <td>Das San Francisco Police Department sagte, der...</td>\n",
       "      <td>Die Polizeiabteilung San Francisco sagte, der ...</td>\n",
       "      <td>Die Polizeibehörde San Francisco erklärte, der...</td>\n",
       "      <td>Die Polizeiabteilung San Francisco sagte, der ...</td>\n",
       "      <td>Die San Francisco Polizeibehörde hat gesagt, d...</td>\n",
       "      <td>Die Polizeibehörde von San Francisco erklärte,...</td>\n",
       "      <td>Die Polizeiabteilung von San Francisco sagte, ...</td>\n",
       "      <td>Die San Francisco Police Department, sagte der...</td>\n",
       "      <td>Die Polizeidirektion San Francisco sagte, der ...</td>\n",
       "      <td>Die PolizeiDirektion von San Francisco sagte, ...</td>\n",
       "      <td>Die San Francisco Polizeiabteilung sagte, der ...</td>\n",
       "      <td>Die Polizei von San Francisco sagte, der Tod s...</td>\n",
       "      <td>Die Abteilung San Francisco Polizei sagte, der...</td>\n",
       "    </tr>\n",
       "  </tbody>\n",
       "</table>\n",
       "</div>"
      ],
      "text/plain": [
       "                                                 src  \\\n",
       "0  28-Year-Old Chef Found Dead at San Francisco Mall   \n",
       "1  A 28-year-old chef who had recently moved to S...   \n",
       "2  But the victim's brother says he can't think o...   \n",
       "3  The body found at the Westfield Mall Wednesday...   \n",
       "4  The San Francisco Police Department said the d...   \n",
       "\n",
       "                                                 ref  \\\n",
       "0  28-jähriger Koch in San Francisco Mall tot auf...   \n",
       "1  Ein 28-jähriger Koch, der vor kurzem nach San ...   \n",
       "2  Der Bruder des Opfers sagte aus, dass er sich ...   \n",
       "3  Der am Mittwoch morgen in der Westfield Mall g...   \n",
       "4  Das San Francisco Police Department sagte, das...   \n",
       "\n",
       "                                          online-F.0  \\\n",
       "0  28-jähriger Chef Found Dead bei San Francisco ...   \n",
       "1  Ein 28-jähriger Chef, der vor kurzem nach San ...   \n",
       "2  Aber der Bruder des Opfers sagt, dass er nicht...   \n",
       "3  Der Körper, der am Westfield-Mall Mittwoch Mor...   \n",
       "4  San Francisco Police Department sagte, dass de...   \n",
       "\n",
       "                                       LIUM-NMT.4900  \\\n",
       "0  28-jähriger Chef Found tot bei San Francisco Mall   \n",
       "1  Ein 28-jähriger Koch, der vor kurzem nach San ...   \n",
       "2  Aber der Bruder des Opfers sagt, er könne niem...   \n",
       "3  Der Körper, der am Mittwochmorgen im Westfield...   \n",
       "4  Die Polizei von San Francisco sagte, der Tod s...   \n",
       "\n",
       "                               LMU-nmt-reranked.4934  \\\n",
       "0  28-jähriger Chef fand Tote bei San Francisco Mall   \n",
       "1  Ein 28-jähriger Küchenchef, der kürzlich nach ...   \n",
       "2  Doch der Bruder des Opfers sagt, er könne niem...   \n",
       "3  Der Körper am Westfeld Mall am Mittwochmorgen ...   \n",
       "4  Das Polizeiministerium von San Francisco sagte...   \n",
       "\n",
       "                                          online-G.0  \\\n",
       "0  Der 28-Jährige Küchenchef Gefunden, Tot in San...   \n",
       "1  Eine 28-jährige Koch, der hatte vor kurzem nac...   \n",
       "2  Aber der Bruder des Opfers sagt, er kann nicht...   \n",
       "3  Der Körper fand in der Westfield Mall Mittwoch...   \n",
       "4  Das San Francisco Police Department sagte, der...   \n",
       "\n",
       "                                          C-3MA.4959  \\\n",
       "0  28-Jähriger-Chef Faund Dead bei San Francisco ...   \n",
       "1  Ein 28 Jahre alter Chefkoch, der vor kurzem in...   \n",
       "2  Aber der Bruder des Opfers sagt, er könne nich...   \n",
       "3  Das im Westfield-Mall-Mittwochmorgen aufgestel...   \n",
       "4  Die Polizeiabteilung San Francisco sagte, der ...   \n",
       "\n",
       "                            fbk-nmt-combination.4870  \\\n",
       "0  28-jähriger Chef Found Dead bei San Francisco ...   \n",
       "1  Ein 28-jähriger Koch, der kürzlich nach San Fr...   \n",
       "2  Aber der Bruder des Opfers sagt, er könne niem...   \n",
       "3  Die Leiche am Westfield Mall am Mittwochmorgen...   \n",
       "4  Die Polizeibehörde San Francisco erklärte, der...   \n",
       "\n",
       "                              RWTH-nmt-ensemble.4921  \\\n",
       "0  28-Jähriger Chef Fund Dead bei San Francisco Mall   \n",
       "1  Ein 28 -jähriger Koch, der kürzlich nach San F...   \n",
       "2  Aber der Bruder des Opfers sagt, er könne niem...   \n",
       "3  Der am Westfield Mall Mittwochmorgen gefundene...   \n",
       "4  Die Polizeiabteilung San Francisco sagte, der ...   \n",
       "\n",
       "                               PROMT-Rule-based.4735  \\\n",
       "0  Der 28-jährige Chef gefundene Tote am San Fran...   \n",
       "1  Ein 28-jähriger Chef, der sich kürzlich nach S...   \n",
       "2  Aber der Bruder des Opfers sagt, dass er an ni...   \n",
       "3  Der Körper, der am Einkaufszentrum von Westfie...   \n",
       "4  Die San Francisco Polizeibehörde hat gesagt, d...   \n",
       "\n",
       "                                      uedin-nmt.4722  \\\n",
       "0  28-jähriger Chef Found in der San Francisco Ma...   \n",
       "1  Ein 28-jähriger Koch, der kürzlich nach San Fr...   \n",
       "2  Doch der Bruder des Opfers sagt, er könne nich...   \n",
       "3  Der am Mittwochmorgen an der Westfield Mall ge...   \n",
       "4  Die Polizeibehörde von San Francisco erklärte,...   \n",
       "\n",
       "                                            KIT.4950  \\\n",
       "0  28-jähriger Chef Found Dead in San Francisco Mall   \n",
       "1  Ein 28-jähriger Chefkoch, der vor kurzem nach ...   \n",
       "2  Aber der Bruder des Opfers sagt, er könne nich...   \n",
       "3  Der Körper, der am Westfield Mall am Mittwochm...   \n",
       "4  Die Polizeiabteilung von San Francisco sagte, ...   \n",
       "\n",
       "                                          online-A.0  \\\n",
       "0  ﻿28 Jahre alt Chef gefunden tot in San Francis...   \n",
       "1  Ein 28 Jahre altes Chef, der vor kurzem nach S...   \n",
       "2  Aber der Bruder des Opfers sagt, er könne nich...   \n",
       "3  Die Leiche fand am Mittwoch Vormittag der Mall...   \n",
       "4  Die San Francisco Police Department, sagte der...   \n",
       "\n",
       "                                            xmu.4910  \\\n",
       "0  28-jähriger Chef Found Dead bei San Francisco ...   \n",
       "1  Ein 28-jähriger Koch, der kürzlich nach San Fr...   \n",
       "2  Doch der Bruder des Opfers sagt, er könne nich...   \n",
       "3  Die am Mittwochmorgen am Westfield Mall gefund...   \n",
       "4  Die Polizeidirektion San Francisco sagte, der ...   \n",
       "\n",
       "                                        SYSTRAN.4847  \\\n",
       "0  28-Jähriger Chef Found Dead bei San Francisco ...   \n",
       "1  Eine 28-jährige Köchin, die kürzlich nach San ...   \n",
       "2  Aber der Bruder des Opfers sagt, er könne nich...   \n",
       "3  Der am WestField Mall Mittwoch Morgen festgeno...   \n",
       "4  Die PolizeiDirektion von San Francisco sagte, ...   \n",
       "\n",
       "                                          online-B.0  \\\n",
       "0  28-jährige Chef gefunden tot in San Francisco ...   \n",
       "1  Ein 28-jähriger Chef, der vor kurzem nach San ...   \n",
       "2  Aber der Bruder des Opfers sagt, er könne nich...   \n",
       "3  Der Körper, der am Westfield Mall am Mittwochm...   \n",
       "4  Die San Francisco Polizeiabteilung sagte, der ...   \n",
       "\n",
       "                                 LMU-nmt-single.4893  \\\n",
       "0  28-jähriger Chef fand Tote bei San Francisco Mall   \n",
       "1  Ein 28-jähriger Küchenchef, der kürzlich nach ...   \n",
       "2  Doch der Bruder des Opfers sagt, er könne niem...   \n",
       "3  Der Körper, der am Mittwochmorgen im Westfield...   \n",
       "4  Die Polizei von San Francisco sagte, der Tod s...   \n",
       "\n",
       "                                       TALP-UPC.4834  \n",
       "0  28-jähriger Chef Found Dead am San Francisco M...  \n",
       "1  Ein 28-jähriger Küchenchef, der vor kurzem nac...  \n",
       "2  Aber der Bruder des Opfers sagt, er könne jema...  \n",
       "3  Der Körper, der im Westfield Mall Mittwoch Mor...  \n",
       "4  Die Abteilung San Francisco Polizei sagte, der...  "
      ]
     },
     "execution_count": 11,
     "metadata": {},
     "output_type": "execute_result"
    }
   ],
   "source": [
    "en_de_data.head()"
   ]
  },
  {
   "cell_type": "markdown",
   "metadata": {},
   "source": [
    "## DA Scores:"
   ]
  },
  {
   "cell_type": "code",
   "execution_count": 15,
   "metadata": {},
   "outputs": [],
   "source": [
    "DA_DATA = 'humaneval-seg-da/ad-seg-scores-{}.csv'"
   ]
  },
  {
   "cell_type": "code",
   "execution_count": 16,
   "metadata": {},
   "outputs": [],
   "source": [
    "def segment_level_da(path, lp):\n",
    "    with open(path, \"r\") as fp:\n",
    "        fp.readline()\n",
    "        lines = [l.strip() for l in fp.readlines()]\n",
    "    data = []\n",
    "    for line in lines:\n",
    "        sys, sid, raw_score, z, n = line.split()\n",
    "        data.append({\"system\": sys, \"SID\": sid, \"raw_score\": raw_score, \"z_score\": z, \"annotators\": n, \"lp\": lp})\n",
    "    return pd.DataFrame(data)"
   ]
  },
  {
   "cell_type": "code",
   "execution_count": 17,
   "metadata": {},
   "outputs": [],
   "source": [
    "en_de_da_data = segment_level_da(DA_DATA.format('en-de'), \"en-de\")"
   ]
  },
  {
   "cell_type": "code",
   "execution_count": 18,
   "metadata": {},
   "outputs": [
    {
     "data": {
      "text/html": [
       "<div>\n",
       "<style scoped>\n",
       "    .dataframe tbody tr th:only-of-type {\n",
       "        vertical-align: middle;\n",
       "    }\n",
       "\n",
       "    .dataframe tbody tr th {\n",
       "        vertical-align: top;\n",
       "    }\n",
       "\n",
       "    .dataframe thead th {\n",
       "        text-align: right;\n",
       "    }\n",
       "</style>\n",
       "<table border=\"1\" class=\"dataframe\">\n",
       "  <thead>\n",
       "    <tr style=\"text-align: right;\">\n",
       "      <th></th>\n",
       "      <th>system</th>\n",
       "      <th>SID</th>\n",
       "      <th>raw_score</th>\n",
       "      <th>z_score</th>\n",
       "      <th>annotators</th>\n",
       "      <th>lp</th>\n",
       "    </tr>\n",
       "  </thead>\n",
       "  <tbody>\n",
       "    <tr>\n",
       "      <th>0</th>\n",
       "      <td>RWTH-nmt-ensemble.4921</td>\n",
       "      <td>1467</td>\n",
       "      <td>76</td>\n",
       "      <td>0.225731637374983</td>\n",
       "      <td>1</td>\n",
       "      <td>en-de</td>\n",
       "    </tr>\n",
       "    <tr>\n",
       "      <th>1</th>\n",
       "      <td>RWTH-nmt-ensemble.4921</td>\n",
       "      <td>1913</td>\n",
       "      <td>23</td>\n",
       "      <td>-1.54724786336601</td>\n",
       "      <td>1</td>\n",
       "      <td>en-de</td>\n",
       "    </tr>\n",
       "    <tr>\n",
       "      <th>2</th>\n",
       "      <td>RWTH-nmt-ensemble.4921</td>\n",
       "      <td>2766</td>\n",
       "      <td>53</td>\n",
       "      <td>-0.677766865960105</td>\n",
       "      <td>1</td>\n",
       "      <td>en-de</td>\n",
       "    </tr>\n",
       "    <tr>\n",
       "      <th>3</th>\n",
       "      <td>RWTH-nmt-ensemble.4921</td>\n",
       "      <td>823</td>\n",
       "      <td>67</td>\n",
       "      <td>-0.127811255234399</td>\n",
       "      <td>1</td>\n",
       "      <td>en-de</td>\n",
       "    </tr>\n",
       "    <tr>\n",
       "      <th>4</th>\n",
       "      <td>RWTH-nmt-ensemble.4921</td>\n",
       "      <td>881</td>\n",
       "      <td>85</td>\n",
       "      <td>0.875052043519762</td>\n",
       "      <td>2</td>\n",
       "      <td>en-de</td>\n",
       "    </tr>\n",
       "  </tbody>\n",
       "</table>\n",
       "</div>"
      ],
      "text/plain": [
       "                   system   SID raw_score             z_score annotators  \\\n",
       "0  RWTH-nmt-ensemble.4921  1467        76   0.225731637374983          1   \n",
       "1  RWTH-nmt-ensemble.4921  1913        23   -1.54724786336601          1   \n",
       "2  RWTH-nmt-ensemble.4921  2766        53  -0.677766865960105          1   \n",
       "3  RWTH-nmt-ensemble.4921   823        67  -0.127811255234399          1   \n",
       "4  RWTH-nmt-ensemble.4921   881        85   0.875052043519762          2   \n",
       "\n",
       "      lp  \n",
       "0  en-de  \n",
       "1  en-de  \n",
       "2  en-de  \n",
       "3  en-de  \n",
       "4  en-de  "
      ]
     },
     "execution_count": 18,
     "metadata": {},
     "output_type": "execute_result"
    }
   ],
   "source": [
    "en_de_da_data.head()"
   ]
  },
  {
   "cell_type": "code",
   "execution_count": 19,
   "metadata": {},
   "outputs": [],
   "source": [
    "from tqdm.notebook import tqdm \n",
    "\n",
    "def merge_submissions_with_human_scores(submissions, human_scores):\n",
    "    \n",
    "    def system_in_submissions(system):\n",
    "        for col in submissions.columns:\n",
    "            if system in col:\n",
    "                return True\n",
    "            if col in system:\n",
    "                return True\n",
    "        return False\n",
    "    \n",
    "    lp, data, src, ref, hyp, raw_score, z_score, annotators = [], [], [], [], [], [], [], []\n",
    "    for i, row in tqdm(human_scores.iterrows(), total=len(human_scores), desc=list(human_scores.lp)[0]):\n",
    "        sub_row = submissions.iloc[int(row['SID'])-1] # segments have ids from 1 to 1997\n",
    "        \n",
    "        # Not all systems belong to the newstranslation shared task. Some belong\n",
    "        # to other shared tasks such as unsupervied MT.\n",
    "        \n",
    "        if system_in_submissions(row['system']):\n",
    "            system = row['system']\n",
    "            hyp.append(sub_row[system])\n",
    "            lp.append(row['lp'])\n",
    "            data.append('newstest2019')\n",
    "            src.append(sub_row['src'])\n",
    "            ref.append(sub_row['ref'])\n",
    "            raw_score.append(float(row['raw_score']))\n",
    "            z_score.append(float(row['z_score']))\n",
    "            annotators.append(int(row['annotators']))\n",
    "    \n",
    "    data = {\n",
    "        \"lp\": lp,\n",
    "        \"src\": src,\n",
    "        \"mt\": hyp,\n",
    "        \"ref\": ref,\n",
    "        \"score\": z_score,\n",
    "        \"raw_score\": raw_score,\n",
    "        \"annotators\": annotators\n",
    "    }\n",
    "    return pd.DataFrame(data)\n"
   ]
  },
  {
   "cell_type": "code",
   "execution_count": 20,
   "metadata": {},
   "outputs": [
    {
     "data": {
      "application/vnd.jupyter.widget-view+json": {
       "model_id": "fed39927b20a4ed790862fadc9e7577f",
       "version_major": 2,
       "version_minor": 0
      },
      "text/plain": [
       "HBox(children=(FloatProgress(value=0.0, description='en-de', max=7025.0, style=ProgressStyle(description_width…"
      ]
     },
     "metadata": {},
     "output_type": "display_data"
    },
    {
     "name": "stdout",
     "output_type": "stream",
     "text": [
      "\n"
     ]
    }
   ],
   "source": [
    "en_de_scores_merged = merge_submissions_with_human_scores(en_de_data, en_de_da_data)"
   ]
  },
  {
   "cell_type": "code",
   "execution_count": 21,
   "metadata": {},
   "outputs": [
    {
     "data": {
      "text/html": [
       "<div>\n",
       "<style scoped>\n",
       "    .dataframe tbody tr th:only-of-type {\n",
       "        vertical-align: middle;\n",
       "    }\n",
       "\n",
       "    .dataframe tbody tr th {\n",
       "        vertical-align: top;\n",
       "    }\n",
       "\n",
       "    .dataframe thead th {\n",
       "        text-align: right;\n",
       "    }\n",
       "</style>\n",
       "<table border=\"1\" class=\"dataframe\">\n",
       "  <thead>\n",
       "    <tr style=\"text-align: right;\">\n",
       "      <th></th>\n",
       "      <th>lp</th>\n",
       "      <th>src</th>\n",
       "      <th>mt</th>\n",
       "      <th>ref</th>\n",
       "      <th>score</th>\n",
       "      <th>raw_score</th>\n",
       "      <th>annotators</th>\n",
       "    </tr>\n",
       "  </thead>\n",
       "  <tbody>\n",
       "    <tr>\n",
       "      <th>0</th>\n",
       "      <td>en-de</td>\n",
       "      <td>For older generations, singing together is see...</td>\n",
       "      <td>Für ältere Generationen wird Gesang gemeinsam ...</td>\n",
       "      <td>In den älteren Generationen hatte das gemeinsa...</td>\n",
       "      <td>0.225732</td>\n",
       "      <td>76.0</td>\n",
       "      <td>1</td>\n",
       "    </tr>\n",
       "    <tr>\n",
       "      <th>1</th>\n",
       "      <td>en-de</td>\n",
       "      <td>The complaints are many, covering everything f...</td>\n",
       "      <td>Die Beschwerden sind viele, die alles von der ...</td>\n",
       "      <td>Es gibt zahlreiche Beschwerden, die alles von ...</td>\n",
       "      <td>-1.547248</td>\n",
       "      <td>23.0</td>\n",
       "      <td>1</td>\n",
       "    </tr>\n",
       "    <tr>\n",
       "      <th>2</th>\n",
       "      <td>en-de</td>\n",
       "      <td>He also announced that security services would...</td>\n",
       "      <td>Er kündigte zudem an, dass die Sicherheitsdien...</td>\n",
       "      <td>Er kündigte auch eine weitere personelle Verst...</td>\n",
       "      <td>-0.677767</td>\n",
       "      <td>53.0</td>\n",
       "      <td>1</td>\n",
       "    </tr>\n",
       "    <tr>\n",
       "      <th>3</th>\n",
       "      <td>en-de</td>\n",
       "      <td>The Catalan team will face off against FC Sevi...</td>\n",
       "      <td>Das katalanische Team wird sich gegen FC Sevil...</td>\n",
       "      <td>Die Katalanen treten im Duell um den spanische...</td>\n",
       "      <td>-0.127811</td>\n",
       "      <td>67.0</td>\n",
       "      <td>1</td>\n",
       "    </tr>\n",
       "    <tr>\n",
       "      <th>4</th>\n",
       "      <td>en-de</td>\n",
       "      <td>\"The IAAF will perform an evaluation, dependin...</td>\n",
       "      <td>\"Die IAAF wird eine Bewertung durchführen, abh...</td>\n",
       "      <td>\"Abhängig von den Ergebnissen der Untersuchung...</td>\n",
       "      <td>0.875052</td>\n",
       "      <td>85.0</td>\n",
       "      <td>2</td>\n",
       "    </tr>\n",
       "  </tbody>\n",
       "</table>\n",
       "</div>"
      ],
      "text/plain": [
       "      lp                                                src  \\\n",
       "0  en-de  For older generations, singing together is see...   \n",
       "1  en-de  The complaints are many, covering everything f...   \n",
       "2  en-de  He also announced that security services would...   \n",
       "3  en-de  The Catalan team will face off against FC Sevi...   \n",
       "4  en-de  \"The IAAF will perform an evaluation, dependin...   \n",
       "\n",
       "                                                  mt  \\\n",
       "0  Für ältere Generationen wird Gesang gemeinsam ...   \n",
       "1  Die Beschwerden sind viele, die alles von der ...   \n",
       "2  Er kündigte zudem an, dass die Sicherheitsdien...   \n",
       "3  Das katalanische Team wird sich gegen FC Sevil...   \n",
       "4  \"Die IAAF wird eine Bewertung durchführen, abh...   \n",
       "\n",
       "                                                 ref     score  raw_score  \\\n",
       "0  In den älteren Generationen hatte das gemeinsa...  0.225732       76.0   \n",
       "1  Es gibt zahlreiche Beschwerden, die alles von ... -1.547248       23.0   \n",
       "2  Er kündigte auch eine weitere personelle Verst... -0.677767       53.0   \n",
       "3  Die Katalanen treten im Duell um den spanische... -0.127811       67.0   \n",
       "4  \"Abhängig von den Ergebnissen der Untersuchung...  0.875052       85.0   \n",
       "\n",
       "   annotators  \n",
       "0           1  \n",
       "1           1  \n",
       "2           1  \n",
       "3           1  \n",
       "4           2  "
      ]
     },
     "execution_count": 21,
     "metadata": {},
     "output_type": "execute_result"
    }
   ],
   "source": [
    "en_de_scores_merged.head()"
   ]
  },
  {
   "cell_type": "code",
   "execution_count": 22,
   "metadata": {},
   "outputs": [
    {
     "data": {
      "text/plain": [
       "(7025, 7025)"
      ]
     },
     "execution_count": 22,
     "metadata": {},
     "output_type": "execute_result"
    }
   ],
   "source": [
    "nd_en_de_scores_merged = en_de_scores_merged[~en_de_scores_merged.duplicated(['src', 'ref', 'mt', 'score'])]\n",
    "len(en_de_scores_merged), len(nd_en_de_scores_merged)"
   ]
  },
  {
   "cell_type": "markdown",
   "metadata": {},
   "source": [
    "### All languages:"
   ]
  },
  {
   "cell_type": "code",
   "execution_count": 26,
   "metadata": {},
   "outputs": [],
   "source": [
    "language_pairs = [\n",
    "    'en-cs', 'en-de', 'en-fi', 'en-lv', 'en-tr', 'en-ru', 'en-zh',\n",
    "    'cs-en', 'de-en', 'fi-en',          'tr-en', 'ru-en', 'zh-en'\n",
    "]"
   ]
  },
  {
   "cell_type": "code",
   "execution_count": 28,
   "metadata": {},
   "outputs": [
    {
     "data": {
      "application/vnd.jupyter.widget-view+json": {
       "model_id": "8b4337cdb5a34a91b07e8805f807adfa",
       "version_major": 2,
       "version_minor": 0
      },
      "text/plain": [
       "HBox(children=(FloatProgress(value=0.0, description='en-cs', max=20532.0, style=ProgressStyle(description_widt…"
      ]
     },
     "metadata": {},
     "output_type": "display_data"
    },
    {
     "name": "stdout",
     "output_type": "stream",
     "text": [
      "\n",
      "LP en-cs - scores data size: 20532\n"
     ]
    },
    {
     "data": {
      "application/vnd.jupyter.widget-view+json": {
       "model_id": "7f8d470cb75247f587b7d84648f5c322",
       "version_major": 2,
       "version_minor": 0
      },
      "text/plain": [
       "HBox(children=(FloatProgress(value=0.0, description='en-de', max=7025.0, style=ProgressStyle(description_width…"
      ]
     },
     "metadata": {},
     "output_type": "display_data"
    },
    {
     "name": "stdout",
     "output_type": "stream",
     "text": [
      "\n",
      "LP en-de - scores data size: 7025\n"
     ]
    },
    {
     "data": {
      "application/vnd.jupyter.widget-view+json": {
       "model_id": "b5042204fade492ebcea3701cb798b84",
       "version_major": 2,
       "version_minor": 0
      },
      "text/plain": [
       "HBox(children=(FloatProgress(value=0.0, description='en-fi', max=6748.0, style=ProgressStyle(description_width…"
      ]
     },
     "metadata": {},
     "output_type": "display_data"
    },
    {
     "name": "stdout",
     "output_type": "stream",
     "text": [
      "\n",
      "LP en-fi - scores data size: 6748\n"
     ]
    },
    {
     "data": {
      "application/vnd.jupyter.widget-view+json": {
       "model_id": "51a69f36951d4103b0aabd7a42e26414",
       "version_major": 2,
       "version_minor": 0
      },
      "text/plain": [
       "HBox(children=(FloatProgress(value=0.0, description='en-lv', max=5810.0, style=ProgressStyle(description_width…"
      ]
     },
     "metadata": {},
     "output_type": "display_data"
    },
    {
     "name": "stdout",
     "output_type": "stream",
     "text": [
      "\n",
      "LP en-lv - scores data size: 5810\n"
     ]
    },
    {
     "data": {
      "application/vnd.jupyter.widget-view+json": {
       "model_id": "416255dd309f4846a6d741f5e95a0082",
       "version_major": 2,
       "version_minor": 0
      },
      "text/plain": [
       "HBox(children=(FloatProgress(value=0.0, description='en-tr', max=2039.0, style=ProgressStyle(description_width…"
      ]
     },
     "metadata": {},
     "output_type": "display_data"
    },
    {
     "name": "stdout",
     "output_type": "stream",
     "text": [
      "\n",
      "LP en-tr - scores data size: 2039\n"
     ]
    },
    {
     "data": {
      "application/vnd.jupyter.widget-view+json": {
       "model_id": "4294a5c9e55d4b3cb9c9b20e214f5dd6",
       "version_major": 2,
       "version_minor": 0
      },
      "text/plain": [
       "HBox(children=(FloatProgress(value=0.0, description='en-ru', max=17861.0, style=ProgressStyle(description_widt…"
      ]
     },
     "metadata": {},
     "output_type": "display_data"
    },
    {
     "name": "stdout",
     "output_type": "stream",
     "text": [
      "\n",
      "LP en-ru - scores data size: 17358\n"
     ]
    },
    {
     "data": {
      "application/vnd.jupyter.widget-view+json": {
       "model_id": "21ff566560264d32ba6976cf3da26049",
       "version_major": 2,
       "version_minor": 0
      },
      "text/plain": [
       "HBox(children=(FloatProgress(value=0.0, description='en-zh', max=10267.0, style=ProgressStyle(description_widt…"
      ]
     },
     "metadata": {},
     "output_type": "display_data"
    },
    {
     "name": "stdout",
     "output_type": "stream",
     "text": [
      "\n",
      "LP en-zh - scores data size: 10221\n"
     ]
    },
    {
     "data": {
      "application/vnd.jupyter.widget-view+json": {
       "model_id": "1b8768dfa62d45178c2fb5e41e5e83e6",
       "version_major": 2,
       "version_minor": 0
      },
      "text/plain": [
       "HBox(children=(FloatProgress(value=0.0, description='cs-en', max=11685.0, style=ProgressStyle(description_widt…"
      ]
     },
     "metadata": {},
     "output_type": "display_data"
    },
    {
     "name": "stdout",
     "output_type": "stream",
     "text": [
      "\n",
      "LP cs-en - scores data size: 11585\n"
     ]
    },
    {
     "data": {
      "application/vnd.jupyter.widget-view+json": {
       "model_id": "fda904b878e84a1197c51f40b9b6f7e6",
       "version_major": 2,
       "version_minor": 0
      },
      "text/plain": [
       "HBox(children=(FloatProgress(value=0.0, description='de-en', max=24158.0, style=ProgressStyle(description_widt…"
      ]
     },
     "metadata": {},
     "output_type": "display_data"
    },
    {
     "name": "stdout",
     "output_type": "stream",
     "text": [
      "\n",
      "LP de-en - scores data size: 21704\n"
     ]
    },
    {
     "data": {
      "application/vnd.jupyter.widget-view+json": {
       "model_id": "9e1ae3f476e94ab185ce98728c1356ad",
       "version_major": 2,
       "version_minor": 0
      },
      "text/plain": [
       "HBox(children=(FloatProgress(value=0.0, description='fi-en', max=15275.0, style=ProgressStyle(description_widt…"
      ]
     },
     "metadata": {},
     "output_type": "display_data"
    },
    {
     "name": "stdout",
     "output_type": "stream",
     "text": [
      "\n",
      "LP fi-en - scores data size: 15159\n"
     ]
    },
    {
     "data": {
      "application/vnd.jupyter.widget-view+json": {
       "model_id": "688796b69fae477f8acc40fbf8590c4e",
       "version_major": 2,
       "version_minor": 0
      },
      "text/plain": [
       "HBox(children=(FloatProgress(value=0.0, description='tr-en', max=18103.0, style=ProgressStyle(description_widt…"
      ]
     },
     "metadata": {},
     "output_type": "display_data"
    },
    {
     "name": "stdout",
     "output_type": "stream",
     "text": [
      "\n",
      "LP tr-en - scores data size: 17335\n"
     ]
    },
    {
     "data": {
      "application/vnd.jupyter.widget-view+json": {
       "model_id": "0bde1a4c6d254d47a809ac257004b2d7",
       "version_major": 2,
       "version_minor": 0
      },
      "text/plain": [
       "HBox(children=(FloatProgress(value=0.0, description='ru-en', max=19116.0, style=ProgressStyle(description_widt…"
      ]
     },
     "metadata": {},
     "output_type": "display_data"
    },
    {
     "name": "stdout",
     "output_type": "stream",
     "text": [
      "\n",
      "LP ru-en - scores data size: 17980\n"
     ]
    },
    {
     "data": {
      "application/vnd.jupyter.widget-view+json": {
       "model_id": "ad6107ad62f64cbaad240a8fc213953b",
       "version_major": 2,
       "version_minor": 0
      },
      "text/plain": [
       "HBox(children=(FloatProgress(value=0.0, description='zh-en', max=27374.0, style=ProgressStyle(description_widt…"
      ]
     },
     "metadata": {},
     "output_type": "display_data"
    },
    {
     "name": "stdout",
     "output_type": "stream",
     "text": [
      "\n",
      "LP zh-en - scores data size: 26419\n"
     ]
    }
   ],
   "source": [
    "for language_pair in language_pairs:\n",
    "    try:\n",
    "        os.makedirs(language_pair)\n",
    "    except FileExistsError:\n",
    "        pass\n",
    "    src, trg = language_pair.split('-')\n",
    "    lp, lp1 = src + '-' + trg, src + trg\n",
    "    \n",
    "    sources = [line.strip() for line in open(SRC_PREFIX+f'newstest2017-{lp1}-src.{src}')]\n",
    "    references = [line.strip() for line in open(REF_PREFIX+f'newstest2017-{lp1}-ref.{trg}')]\n",
    "    \n",
    "    sys_outputs_files = os.listdir(SYS_PREFIX+f'{lp}/')\n",
    "    systems = ['.'.join(submission_name.split('.')[1:-1]) for submission_name in sys_outputs_files]\n",
    "    \n",
    "    lp_data = pd.DataFrame({'src': sources, 'ref': references, **get_system_outputs(lp)})\n",
    "    \n",
    "    da_data = segment_level_da(DA_DATA.format(language_pair), language_pair)\n",
    "    \n",
    "    merged = merge_submissions_with_human_scores(lp_data, da_data)\n",
    "    merged = merged[~merged.duplicated(['src', 'ref', 'mt', 'score'])]\n",
    "    print (\"LP {} - scores data size: {}\".format(language_pair, len(merged)))\n",
    "    merged.to_csv(f'{lp}/scores.csv', index=False)"
   ]
  },
  {
   "cell_type": "markdown",
   "metadata": {},
   "source": [
    "## Relative Ranks:"
   ]
  },
  {
   "cell_type": "code",
   "execution_count": 29,
   "metadata": {},
   "outputs": [],
   "source": [
    "rr_data = pd.read_csv('wmt17-metrics-task-package/manual-evaluation/RR-seglevel.csv', delimiter=' ')"
   ]
  },
  {
   "cell_type": "code",
   "execution_count": 30,
   "metadata": {},
   "outputs": [
    {
     "data": {
      "text/html": [
       "<div>\n",
       "<style scoped>\n",
       "    .dataframe tbody tr th:only-of-type {\n",
       "        vertical-align: middle;\n",
       "    }\n",
       "\n",
       "    .dataframe tbody tr th {\n",
       "        vertical-align: top;\n",
       "    }\n",
       "\n",
       "    .dataframe thead th {\n",
       "        text-align: right;\n",
       "    }\n",
       "</style>\n",
       "<table border=\"1\" class=\"dataframe\">\n",
       "  <thead>\n",
       "    <tr style=\"text-align: right;\">\n",
       "      <th></th>\n",
       "      <th>LP</th>\n",
       "      <th>DATA</th>\n",
       "      <th>SID</th>\n",
       "      <th>BETTER</th>\n",
       "      <th>WORSE</th>\n",
       "    </tr>\n",
       "  </thead>\n",
       "  <tbody>\n",
       "    <tr>\n",
       "      <th>32810</th>\n",
       "      <td>en-de</td>\n",
       "      <td>newstest2017</td>\n",
       "      <td>345</td>\n",
       "      <td>online-B.0</td>\n",
       "      <td>TALP-UPC.4834</td>\n",
       "    </tr>\n",
       "    <tr>\n",
       "      <th>32811</th>\n",
       "      <td>en-de</td>\n",
       "      <td>newstest2017</td>\n",
       "      <td>345</td>\n",
       "      <td>LMU-nmt-reranked.4934</td>\n",
       "      <td>TALP-UPC.4834</td>\n",
       "    </tr>\n",
       "    <tr>\n",
       "      <th>32812</th>\n",
       "      <td>en-de</td>\n",
       "      <td>newstest2017</td>\n",
       "      <td>345</td>\n",
       "      <td>RWTH-nmt-ensemble.4921</td>\n",
       "      <td>TALP-UPC.4834</td>\n",
       "    </tr>\n",
       "    <tr>\n",
       "      <th>32813</th>\n",
       "      <td>en-de</td>\n",
       "      <td>newstest2017</td>\n",
       "      <td>345</td>\n",
       "      <td>C-3MA.4959</td>\n",
       "      <td>TALP-UPC.4834</td>\n",
       "    </tr>\n",
       "    <tr>\n",
       "      <th>32814</th>\n",
       "      <td>en-de</td>\n",
       "      <td>newstest2017</td>\n",
       "      <td>345</td>\n",
       "      <td>fbk-nmt-combination.4870</td>\n",
       "      <td>TALP-UPC.4834</td>\n",
       "    </tr>\n",
       "  </tbody>\n",
       "</table>\n",
       "</div>"
      ],
      "text/plain": [
       "          LP          DATA  SID                    BETTER          WORSE\n",
       "32810  en-de  newstest2017  345                online-B.0  TALP-UPC.4834\n",
       "32811  en-de  newstest2017  345     LMU-nmt-reranked.4934  TALP-UPC.4834\n",
       "32812  en-de  newstest2017  345    RWTH-nmt-ensemble.4921  TALP-UPC.4834\n",
       "32813  en-de  newstest2017  345                C-3MA.4959  TALP-UPC.4834\n",
       "32814  en-de  newstest2017  345  fbk-nmt-combination.4870  TALP-UPC.4834"
      ]
     },
     "execution_count": 30,
     "metadata": {},
     "output_type": "execute_result"
    }
   ],
   "source": [
    "en_de_rr_data = rr_data[rr_data['LP'] == 'en-de']\n",
    "en_de_rr_data.head()"
   ]
  },
  {
   "cell_type": "code",
   "execution_count": 31,
   "metadata": {},
   "outputs": [
    {
     "data": {
      "text/plain": [
       "(16, 16, 16)"
      ]
     },
     "execution_count": 31,
     "metadata": {},
     "output_type": "execute_result"
    }
   ],
   "source": [
    "len(en_de_rr_data.BETTER.unique()), len(en_de_rr_data.BETTER.unique()), len(systems)"
   ]
  },
  {
   "cell_type": "code",
   "execution_count": 32,
   "metadata": {},
   "outputs": [],
   "source": [
    "from tqdm.notebook import tqdm \n",
    "\n",
    "def merge_submissions_with_RR(submissions, rr_data):\n",
    "    \n",
    "    def system_in_submissions(system):\n",
    "        for col in submissions.columns:\n",
    "            if system in col:\n",
    "                return True\n",
    "            if col in system:\n",
    "                return True\n",
    "        return False\n",
    "    \n",
    "    lp, data, model1, model2, src, ref, hyp1, hyp2, bestmodel = [], [], [], [], [], [], [], [], []\n",
    "    for i, row in tqdm(rr_data.iterrows(), total=len(rr_data), desc=list(rr_data.LP)[0]):\n",
    "        sub_row = submissions.iloc[row['SID']-1] # segments have ids from 1 to 1997\n",
    "        \n",
    "        # Not all systems belong to the newstranslation shared task. Some belong\n",
    "        # to other shared tasks such as unsupervied MT.\n",
    "        if system_in_submissions(row['BETTER']) and system_in_submissions(row['WORSE']):\n",
    "            better_sys = row['BETTER']\n",
    "            worse_sys = row['WORSE']\n",
    "            \n",
    "            hyp1.append(sub_row[better_sys])\n",
    "            hyp2.append(sub_row[worse_sys])\n",
    "            lp.append(row['LP'])\n",
    "            data.append('newstest2019')\n",
    "            src.append(sub_row['src'])\n",
    "            ref.append(sub_row['ref'])\n",
    "            model1.append(better_sys)\n",
    "            model2.append(worse_sys)\n",
    "            bestmodel.append(better_sys)\n",
    "    \n",
    "    data = {\n",
    "        \"data\": data,\n",
    "        \"lp\": lp,\n",
    "        \"src\": src,\n",
    "        \"ref\": ref,\n",
    "        \"pos\": hyp1,\n",
    "        \"neg\": hyp2,\n",
    "        \"pos.model\": model1,\n",
    "        \"neg.model\": model2,\n",
    "        \"bestmodel\": bestmodel\n",
    "    }\n",
    "    return pd.DataFrame(data)"
   ]
  },
  {
   "cell_type": "code",
   "execution_count": 33,
   "metadata": {},
   "outputs": [
    {
     "data": {
      "application/vnd.jupyter.widget-view+json": {
       "model_id": "3bf3fa61d37a4bbd9c8a965e60e86b85",
       "version_major": 2,
       "version_minor": 0
      },
      "text/plain": [
       "HBox(children=(FloatProgress(value=0.0, description='en-de', max=3227.0, style=ProgressStyle(description_width…"
      ]
     },
     "metadata": {},
     "output_type": "display_data"
    },
    {
     "name": "stdout",
     "output_type": "stream",
     "text": [
      "\n"
     ]
    }
   ],
   "source": [
    "merged = merge_submissions_with_RR(en_de_data, en_de_rr_data)"
   ]
  },
  {
   "cell_type": "code",
   "execution_count": 34,
   "metadata": {},
   "outputs": [
    {
     "data": {
      "text/html": [
       "<div>\n",
       "<style scoped>\n",
       "    .dataframe tbody tr th:only-of-type {\n",
       "        vertical-align: middle;\n",
       "    }\n",
       "\n",
       "    .dataframe tbody tr th {\n",
       "        vertical-align: top;\n",
       "    }\n",
       "\n",
       "    .dataframe thead th {\n",
       "        text-align: right;\n",
       "    }\n",
       "</style>\n",
       "<table border=\"1\" class=\"dataframe\">\n",
       "  <thead>\n",
       "    <tr style=\"text-align: right;\">\n",
       "      <th></th>\n",
       "      <th>data</th>\n",
       "      <th>lp</th>\n",
       "      <th>src</th>\n",
       "      <th>ref</th>\n",
       "      <th>pos</th>\n",
       "      <th>neg</th>\n",
       "      <th>pos.model</th>\n",
       "      <th>neg.model</th>\n",
       "      <th>bestmodel</th>\n",
       "    </tr>\n",
       "  </thead>\n",
       "  <tbody>\n",
       "    <tr>\n",
       "      <th>0</th>\n",
       "      <td>newstest2019</td>\n",
       "      <td>en-de</td>\n",
       "      <td>SPD group chairman, Christoph Bratmann, says: ...</td>\n",
       "      <td>SPD-Fraktionsvorsitzender Christoph Bratmann m...</td>\n",
       "      <td>Der Vorsitzende der SPD-Fraktion, Christoph Br...</td>\n",
       "      <td>SPD Group Chairman, Christoph Bratmann, sagt: ...</td>\n",
       "      <td>online-B.0</td>\n",
       "      <td>TALP-UPC.4834</td>\n",
       "      <td>online-B.0</td>\n",
       "    </tr>\n",
       "    <tr>\n",
       "      <th>1</th>\n",
       "      <td>newstest2019</td>\n",
       "      <td>en-de</td>\n",
       "      <td>SPD group chairman, Christoph Bratmann, says: ...</td>\n",
       "      <td>SPD-Fraktionsvorsitzender Christoph Bratmann m...</td>\n",
       "      <td>SPD-Fraktionsvorsitzender Christoph Bratmann s...</td>\n",
       "      <td>SPD Group Chairman, Christoph Bratmann, sagt: ...</td>\n",
       "      <td>LMU-nmt-reranked.4934</td>\n",
       "      <td>TALP-UPC.4834</td>\n",
       "      <td>LMU-nmt-reranked.4934</td>\n",
       "    </tr>\n",
       "    <tr>\n",
       "      <th>2</th>\n",
       "      <td>newstest2019</td>\n",
       "      <td>en-de</td>\n",
       "      <td>SPD group chairman, Christoph Bratmann, says: ...</td>\n",
       "      <td>SPD-Fraktionsvorsitzender Christoph Bratmann m...</td>\n",
       "      <td>SPD-Fraktionsvorsitzender Christoph Bratmann s...</td>\n",
       "      <td>SPD Group Chairman, Christoph Bratmann, sagt: ...</td>\n",
       "      <td>RWTH-nmt-ensemble.4921</td>\n",
       "      <td>TALP-UPC.4834</td>\n",
       "      <td>RWTH-nmt-ensemble.4921</td>\n",
       "    </tr>\n",
       "    <tr>\n",
       "      <th>3</th>\n",
       "      <td>newstest2019</td>\n",
       "      <td>en-de</td>\n",
       "      <td>SPD group chairman, Christoph Bratmann, says: ...</td>\n",
       "      <td>SPD-Fraktionsvorsitzender Christoph Bratmann m...</td>\n",
       "      <td>SPD-Fraktionsvorsitzender Christoph Bratmann s...</td>\n",
       "      <td>SPD Group Chairman, Christoph Bratmann, sagt: ...</td>\n",
       "      <td>C-3MA.4959</td>\n",
       "      <td>TALP-UPC.4834</td>\n",
       "      <td>C-3MA.4959</td>\n",
       "    </tr>\n",
       "    <tr>\n",
       "      <th>4</th>\n",
       "      <td>newstest2019</td>\n",
       "      <td>en-de</td>\n",
       "      <td>SPD group chairman, Christoph Bratmann, says: ...</td>\n",
       "      <td>SPD-Fraktionsvorsitzender Christoph Bratmann m...</td>\n",
       "      <td>Fraktionsvorsitzender SPD, Christoph Bratmann,...</td>\n",
       "      <td>SPD Group Chairman, Christoph Bratmann, sagt: ...</td>\n",
       "      <td>fbk-nmt-combination.4870</td>\n",
       "      <td>TALP-UPC.4834</td>\n",
       "      <td>fbk-nmt-combination.4870</td>\n",
       "    </tr>\n",
       "  </tbody>\n",
       "</table>\n",
       "</div>"
      ],
      "text/plain": [
       "           data     lp                                                src  \\\n",
       "0  newstest2019  en-de  SPD group chairman, Christoph Bratmann, says: ...   \n",
       "1  newstest2019  en-de  SPD group chairman, Christoph Bratmann, says: ...   \n",
       "2  newstest2019  en-de  SPD group chairman, Christoph Bratmann, says: ...   \n",
       "3  newstest2019  en-de  SPD group chairman, Christoph Bratmann, says: ...   \n",
       "4  newstest2019  en-de  SPD group chairman, Christoph Bratmann, says: ...   \n",
       "\n",
       "                                                 ref  \\\n",
       "0  SPD-Fraktionsvorsitzender Christoph Bratmann m...   \n",
       "1  SPD-Fraktionsvorsitzender Christoph Bratmann m...   \n",
       "2  SPD-Fraktionsvorsitzender Christoph Bratmann m...   \n",
       "3  SPD-Fraktionsvorsitzender Christoph Bratmann m...   \n",
       "4  SPD-Fraktionsvorsitzender Christoph Bratmann m...   \n",
       "\n",
       "                                                 pos  \\\n",
       "0  Der Vorsitzende der SPD-Fraktion, Christoph Br...   \n",
       "1  SPD-Fraktionsvorsitzender Christoph Bratmann s...   \n",
       "2  SPD-Fraktionsvorsitzender Christoph Bratmann s...   \n",
       "3  SPD-Fraktionsvorsitzender Christoph Bratmann s...   \n",
       "4  Fraktionsvorsitzender SPD, Christoph Bratmann,...   \n",
       "\n",
       "                                                 neg  \\\n",
       "0  SPD Group Chairman, Christoph Bratmann, sagt: ...   \n",
       "1  SPD Group Chairman, Christoph Bratmann, sagt: ...   \n",
       "2  SPD Group Chairman, Christoph Bratmann, sagt: ...   \n",
       "3  SPD Group Chairman, Christoph Bratmann, sagt: ...   \n",
       "4  SPD Group Chairman, Christoph Bratmann, sagt: ...   \n",
       "\n",
       "                  pos.model      neg.model                 bestmodel  \n",
       "0                online-B.0  TALP-UPC.4834                online-B.0  \n",
       "1     LMU-nmt-reranked.4934  TALP-UPC.4834     LMU-nmt-reranked.4934  \n",
       "2    RWTH-nmt-ensemble.4921  TALP-UPC.4834    RWTH-nmt-ensemble.4921  \n",
       "3                C-3MA.4959  TALP-UPC.4834                C-3MA.4959  \n",
       "4  fbk-nmt-combination.4870  TALP-UPC.4834  fbk-nmt-combination.4870  "
      ]
     },
     "execution_count": 34,
     "metadata": {},
     "output_type": "execute_result"
    }
   ],
   "source": [
    "merged.head()"
   ]
  },
  {
   "cell_type": "markdown",
   "metadata": {},
   "source": [
    "## All languages:\n",
    "\n",
    "#### Note: Relative ranks where not collected for all LPs"
   ]
  },
  {
   "cell_type": "code",
   "execution_count": 46,
   "metadata": {},
   "outputs": [],
   "source": [
    "language_pairs = ['en-cs', 'en-de', 'en-fi', 'en-lv', 'en-tr']"
   ]
  },
  {
   "cell_type": "code",
   "execution_count": 48,
   "metadata": {},
   "outputs": [
    {
     "data": {
      "application/vnd.jupyter.widget-view+json": {
       "model_id": "be9f1b09777049fcadbd946b74713819",
       "version_major": 2,
       "version_minor": 0
      },
      "text/plain": [
       "HBox(children=(FloatProgress(value=0.0, description='en-cs', max=32810.0, style=ProgressStyle(description_widt…"
      ]
     },
     "metadata": {},
     "output_type": "display_data"
    },
    {
     "name": "stdout",
     "output_type": "stream",
     "text": [
      "\n"
     ]
    },
    {
     "data": {
      "application/vnd.jupyter.widget-view+json": {
       "model_id": "8c7536b102a8456cb2e0a6eda9fd6118",
       "version_major": 2,
       "version_minor": 0
      },
      "text/plain": [
       "HBox(children=(FloatProgress(value=0.0, description='en-de', max=3227.0, style=ProgressStyle(description_width…"
      ]
     },
     "metadata": {},
     "output_type": "display_data"
    },
    {
     "name": "stdout",
     "output_type": "stream",
     "text": [
      "\n"
     ]
    },
    {
     "data": {
      "application/vnd.jupyter.widget-view+json": {
       "model_id": "06803350567641aea7a24ce0bbf9f5d5",
       "version_major": 2,
       "version_minor": 0
      },
      "text/plain": [
       "HBox(children=(FloatProgress(value=0.0, description='en-fi', max=3270.0, style=ProgressStyle(description_width…"
      ]
     },
     "metadata": {},
     "output_type": "display_data"
    },
    {
     "name": "stdout",
     "output_type": "stream",
     "text": [
      "\n"
     ]
    },
    {
     "data": {
      "application/vnd.jupyter.widget-view+json": {
       "model_id": "c6978c03391e49e792d8dc103dcebc7d",
       "version_major": 2,
       "version_minor": 0
      },
      "text/plain": [
       "HBox(children=(FloatProgress(value=0.0, description='en-lv', max=3456.0, style=ProgressStyle(description_width…"
      ]
     },
     "metadata": {},
     "output_type": "display_data"
    },
    {
     "name": "stdout",
     "output_type": "stream",
     "text": [
      "\n"
     ]
    },
    {
     "data": {
      "application/vnd.jupyter.widget-view+json": {
       "model_id": "28583bb5400042d385454b675bf753e3",
       "version_major": 2,
       "version_minor": 0
      },
      "text/plain": [
       "HBox(children=(FloatProgress(value=0.0, description='en-tr', max=247.0, style=ProgressStyle(description_width=…"
      ]
     },
     "metadata": {},
     "output_type": "display_data"
    },
    {
     "name": "stdout",
     "output_type": "stream",
     "text": [
      "\n"
     ]
    }
   ],
   "source": [
    "rr_data = pd.read_csv('wmt17-metrics-task-package/manual-evaluation/RR-seglevel.csv', delimiter=' ')\n",
    "\n",
    "for language_pair in language_pairs:\n",
    "    try:\n",
    "        os.makedirs(language_pair)\n",
    "    except FileExistsError:\n",
    "        pass\n",
    "    src, trg = language_pair.split('-')\n",
    "    lp, lp1 = src + '-' + trg, src + trg\n",
    "    \n",
    "    sources = [line.strip() for line in open(SRC_PREFIX+f'newstest2017-{lp1}-src.{src}')]\n",
    "    references = [line.strip() for line in open(REF_PREFIX+f'newstest2017-{lp1}-ref.{trg}')]\n",
    "    \n",
    "    sys_outputs_files = os.listdir(SYS_PREFIX+f'{lp}/')\n",
    "    systems = ['.'.join(submission_name.split('.')[1:-1]) for submission_name in sys_outputs_files]\n",
    "    \n",
    "    lp_data = pd.DataFrame({'src': sources, 'ref': references, **get_system_outputs(lp)})\n",
    "    \n",
    "    lp_rr_data = rr_data[rr_data['LP'] == lp]\n",
    "    merged = merge_submissions_with_RR(lp_data, lp_rr_data)\n",
    "    # print (\"LP {} - daRR size: {}\".format(list(lp_rr_data.LP)[0], len(merged)))\n",
    "    merged.to_csv(f'{lp}/relative-ranks.csv', index=False)"
   ]
  },
  {
   "cell_type": "markdown",
   "metadata": {},
   "source": [
    "## Multilingual Corpus:"
   ]
  },
  {
   "cell_type": "code",
   "execution_count": 49,
   "metadata": {},
   "outputs": [],
   "source": [
    "scores_language_pairs = [\n",
    "    'en-cs', 'en-de', 'en-fi', 'en-lv', 'en-tr', 'en-ru', 'en-zh',\n",
    "    'cs-en', 'de-en', 'fi-en',          'tr-en', 'ru-en', 'zh-en'\n",
    "]\n",
    "rr_language_pairs = ['en-cs', 'en-de', 'en-fi', 'en-lv', 'en-tr']"
   ]
  },
  {
   "cell_type": "code",
   "execution_count": 50,
   "metadata": {},
   "outputs": [
    {
     "data": {
      "application/vnd.jupyter.widget-view+json": {
       "model_id": "a9ea49c1c2044ec0a93f2e47b4e9dacb",
       "version_major": 2,
       "version_minor": 0
      },
      "text/plain": [
       "HBox(children=(FloatProgress(value=0.0, max=13.0), HTML(value='')))"
      ]
     },
     "metadata": {},
     "output_type": "display_data"
    },
    {
     "name": "stdout",
     "output_type": "stream",
     "text": [
      "\n"
     ]
    }
   ],
   "source": [
    "from sklearn.model_selection import train_test_split\n",
    "\n",
    "all_scores_train, all_scores_test = [], []\n",
    "all_rr_train, all_rr_test = [], []\n",
    "\n",
    "all_rr, all_scores = [], []\n",
    "for lp in tqdm(scores_language_pairs):\n",
    "    \n",
    "    if lp in rr_language_pairs:\n",
    "        # Relative Ranks\n",
    "        rr_data = pd.read_csv(f'{lp}/relative-ranks.csv')\n",
    "        all_rr.append(rr_data)\n",
    "\n",
    "        train_rr, test_rr = train_test_split(rr_data, test_size=0.2, random_state=42, shuffle=True)\n",
    "        all_rr_train.append(train_rr)\n",
    "        all_rr_test.append(test_rr)\n",
    "    \n",
    "    # DA scores\n",
    "    scores_data = pd.read_csv(f'{lp}/scores.csv')\n",
    "    all_scores.append(scores_data)\n",
    "    \n",
    "    train_scores, test_scores = train_test_split(scores_data, test_size=1000, random_state=42, shuffle=True)\n",
    "    all_scores_train.append(train_scores)\n",
    "    all_scores_test.append(test_scores)\n",
    "\n",
    "# Relative-Ranks \n",
    "all_rr = pd.concat(all_rr, ignore_index=True)\n",
    "rr_train = pd.concat(all_rr_train, ignore_index=True)\n",
    "rr_test = pd.concat(all_rr_test, ignore_index=True)\n",
    "\n",
    "# Scores \n",
    "all_scores = pd.concat(all_scores, ignore_index=True)\n",
    "scores_train = pd.concat(all_scores_train, ignore_index=True)\n",
    "scores_test = pd.concat(all_scores_test, ignore_index=True)"
   ]
  },
  {
   "cell_type": "code",
   "execution_count": 51,
   "metadata": {},
   "outputs": [],
   "source": [
    "all_rr.to_csv('relative-ranks.csv', index=False)\n",
    "rr_train.to_csv('train-relative-ranks.csv', index=False)\n",
    "rr_test.to_csv('test-relative-ranks.csv', index=False)"
   ]
  },
  {
   "cell_type": "code",
   "execution_count": 52,
   "metadata": {},
   "outputs": [],
   "source": [
    "all_scores.to_csv('scores.csv', index=False)\n",
    "scores_train.to_csv('train_scores.csv', index=False)\n",
    "scores_test.to_csv('test_scores.csv', index=False)"
   ]
  },
  {
   "cell_type": "markdown",
   "metadata": {},
   "source": [
    "### end."
   ]
  }
 ],
 "metadata": {
  "kernelspec": {
   "display_name": "Python 3",
   "language": "python",
   "name": "python3"
  },
  "language_info": {
   "codemirror_mode": {
    "name": "ipython",
    "version": 3
   },
   "file_extension": ".py",
   "mimetype": "text/x-python",
   "name": "python",
   "nbconvert_exporter": "python",
   "pygments_lexer": "ipython3",
   "version": "3.6.6"
  }
 },
 "nbformat": 4,
 "nbformat_minor": 4
}
